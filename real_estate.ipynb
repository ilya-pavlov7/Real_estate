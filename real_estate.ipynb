{
  "cells": [
    {
      "cell_type": "markdown",
      "id": "8fe6a08b",
      "metadata": {
        "id": "8fe6a08b"
      },
      "source": [
        "# Исследование объявлений о продаже квартир\n",
        "\n",
        "В нашем распоряжении данные сервиса Яндекс.Недвижимость — архив объявлений о продаже квартир в Санкт-Петербурге и соседних населённых пунктов за несколько лет."
      ]
    },
    {
      "cell_type": "markdown",
      "id": "8289a954",
      "metadata": {
        "id": "8289a954"
      },
      "source": [
        "### Откроем файл с данными и изучим общую информацию. "
      ]
    },
    {
      "cell_type": "markdown",
      "id": "9b23145e",
      "metadata": {
        "id": "9b23145e"
      },
      "source": [
        "#### **Импорт и вывод таблицы**"
      ]
    },
    {
      "cell_type": "code",
      "execution_count": 2,
      "id": "f4116640",
      "metadata": {
        "colab": {
          "base_uri": "https://localhost:8080/",
          "height": 386
        },
        "id": "f4116640",
        "outputId": "bd49e1ef-a2fd-47be-ed09-30684f30a1ad"
      },
      "outputs": [
        {
          "output_type": "display_data",
          "data": {
            "text/plain": [
              "   total_images  last_price  total_area first_day_exposition  rooms  \\\n",
              "0            20  13000000.0       108.0  2019-03-07T00:00:00      3   \n",
              "1             7   3350000.0        40.4  2018-12-04T00:00:00      1   \n",
              "2            10   5196000.0        56.0  2015-08-20T00:00:00      2   \n",
              "3             0  64900000.0       159.0  2015-07-24T00:00:00      3   \n",
              "4             2  10000000.0       100.0  2018-06-19T00:00:00      2   \n",
              "\n",
              "   ceiling_height  floors_total  living_area  floor is_apartment  ...  \\\n",
              "0            2.70          16.0         51.0      8          NaN  ...   \n",
              "1             NaN          11.0         18.6      1          NaN  ...   \n",
              "2             NaN           5.0         34.3      4          NaN  ...   \n",
              "3             NaN          14.0          NaN      9          NaN  ...   \n",
              "4            3.03          14.0         32.0     13          NaN  ...   \n",
              "\n",
              "   kitchen_area  balcony    locality_name  airports_nearest  \\\n",
              "0          25.0      NaN  Санкт-Петербург           18863.0   \n",
              "1          11.0      2.0   посёлок Шушары           12817.0   \n",
              "2           8.3      0.0  Санкт-Петербург           21741.0   \n",
              "3           NaN      0.0  Санкт-Петербург           28098.0   \n",
              "4          41.0      NaN  Санкт-Петербург           31856.0   \n",
              "\n",
              "  cityCenters_nearest  parks_around3000  parks_nearest  ponds_around3000  \\\n",
              "0             16028.0               1.0          482.0               2.0   \n",
              "1             18603.0               0.0            NaN               0.0   \n",
              "2             13933.0               1.0           90.0               2.0   \n",
              "3              6800.0               2.0           84.0               3.0   \n",
              "4              8098.0               2.0          112.0               1.0   \n",
              "\n",
              "   ponds_nearest  days_exposition  \n",
              "0          755.0              NaN  \n",
              "1            NaN             81.0  \n",
              "2          574.0            558.0  \n",
              "3          234.0            424.0  \n",
              "4           48.0            121.0  \n",
              "\n",
              "[5 rows x 22 columns]"
            ],
            "text/html": [
              "\n",
              "  <div id=\"df-f9e2033b-1894-4a0d-a87f-77780480553f\">\n",
              "    <div class=\"colab-df-container\">\n",
              "      <div>\n",
              "<style scoped>\n",
              "    .dataframe tbody tr th:only-of-type {\n",
              "        vertical-align: middle;\n",
              "    }\n",
              "\n",
              "    .dataframe tbody tr th {\n",
              "        vertical-align: top;\n",
              "    }\n",
              "\n",
              "    .dataframe thead th {\n",
              "        text-align: right;\n",
              "    }\n",
              "</style>\n",
              "<table border=\"1\" class=\"dataframe\">\n",
              "  <thead>\n",
              "    <tr style=\"text-align: right;\">\n",
              "      <th></th>\n",
              "      <th>total_images</th>\n",
              "      <th>last_price</th>\n",
              "      <th>total_area</th>\n",
              "      <th>first_day_exposition</th>\n",
              "      <th>rooms</th>\n",
              "      <th>ceiling_height</th>\n",
              "      <th>floors_total</th>\n",
              "      <th>living_area</th>\n",
              "      <th>floor</th>\n",
              "      <th>is_apartment</th>\n",
              "      <th>...</th>\n",
              "      <th>kitchen_area</th>\n",
              "      <th>balcony</th>\n",
              "      <th>locality_name</th>\n",
              "      <th>airports_nearest</th>\n",
              "      <th>cityCenters_nearest</th>\n",
              "      <th>parks_around3000</th>\n",
              "      <th>parks_nearest</th>\n",
              "      <th>ponds_around3000</th>\n",
              "      <th>ponds_nearest</th>\n",
              "      <th>days_exposition</th>\n",
              "    </tr>\n",
              "  </thead>\n",
              "  <tbody>\n",
              "    <tr>\n",
              "      <th>0</th>\n",
              "      <td>20</td>\n",
              "      <td>13000000.0</td>\n",
              "      <td>108.0</td>\n",
              "      <td>2019-03-07T00:00:00</td>\n",
              "      <td>3</td>\n",
              "      <td>2.70</td>\n",
              "      <td>16.0</td>\n",
              "      <td>51.0</td>\n",
              "      <td>8</td>\n",
              "      <td>NaN</td>\n",
              "      <td>...</td>\n",
              "      <td>25.0</td>\n",
              "      <td>NaN</td>\n",
              "      <td>Санкт-Петербург</td>\n",
              "      <td>18863.0</td>\n",
              "      <td>16028.0</td>\n",
              "      <td>1.0</td>\n",
              "      <td>482.0</td>\n",
              "      <td>2.0</td>\n",
              "      <td>755.0</td>\n",
              "      <td>NaN</td>\n",
              "    </tr>\n",
              "    <tr>\n",
              "      <th>1</th>\n",
              "      <td>7</td>\n",
              "      <td>3350000.0</td>\n",
              "      <td>40.4</td>\n",
              "      <td>2018-12-04T00:00:00</td>\n",
              "      <td>1</td>\n",
              "      <td>NaN</td>\n",
              "      <td>11.0</td>\n",
              "      <td>18.6</td>\n",
              "      <td>1</td>\n",
              "      <td>NaN</td>\n",
              "      <td>...</td>\n",
              "      <td>11.0</td>\n",
              "      <td>2.0</td>\n",
              "      <td>посёлок Шушары</td>\n",
              "      <td>12817.0</td>\n",
              "      <td>18603.0</td>\n",
              "      <td>0.0</td>\n",
              "      <td>NaN</td>\n",
              "      <td>0.0</td>\n",
              "      <td>NaN</td>\n",
              "      <td>81.0</td>\n",
              "    </tr>\n",
              "    <tr>\n",
              "      <th>2</th>\n",
              "      <td>10</td>\n",
              "      <td>5196000.0</td>\n",
              "      <td>56.0</td>\n",
              "      <td>2015-08-20T00:00:00</td>\n",
              "      <td>2</td>\n",
              "      <td>NaN</td>\n",
              "      <td>5.0</td>\n",
              "      <td>34.3</td>\n",
              "      <td>4</td>\n",
              "      <td>NaN</td>\n",
              "      <td>...</td>\n",
              "      <td>8.3</td>\n",
              "      <td>0.0</td>\n",
              "      <td>Санкт-Петербург</td>\n",
              "      <td>21741.0</td>\n",
              "      <td>13933.0</td>\n",
              "      <td>1.0</td>\n",
              "      <td>90.0</td>\n",
              "      <td>2.0</td>\n",
              "      <td>574.0</td>\n",
              "      <td>558.0</td>\n",
              "    </tr>\n",
              "    <tr>\n",
              "      <th>3</th>\n",
              "      <td>0</td>\n",
              "      <td>64900000.0</td>\n",
              "      <td>159.0</td>\n",
              "      <td>2015-07-24T00:00:00</td>\n",
              "      <td>3</td>\n",
              "      <td>NaN</td>\n",
              "      <td>14.0</td>\n",
              "      <td>NaN</td>\n",
              "      <td>9</td>\n",
              "      <td>NaN</td>\n",
              "      <td>...</td>\n",
              "      <td>NaN</td>\n",
              "      <td>0.0</td>\n",
              "      <td>Санкт-Петербург</td>\n",
              "      <td>28098.0</td>\n",
              "      <td>6800.0</td>\n",
              "      <td>2.0</td>\n",
              "      <td>84.0</td>\n",
              "      <td>3.0</td>\n",
              "      <td>234.0</td>\n",
              "      <td>424.0</td>\n",
              "    </tr>\n",
              "    <tr>\n",
              "      <th>4</th>\n",
              "      <td>2</td>\n",
              "      <td>10000000.0</td>\n",
              "      <td>100.0</td>\n",
              "      <td>2018-06-19T00:00:00</td>\n",
              "      <td>2</td>\n",
              "      <td>3.03</td>\n",
              "      <td>14.0</td>\n",
              "      <td>32.0</td>\n",
              "      <td>13</td>\n",
              "      <td>NaN</td>\n",
              "      <td>...</td>\n",
              "      <td>41.0</td>\n",
              "      <td>NaN</td>\n",
              "      <td>Санкт-Петербург</td>\n",
              "      <td>31856.0</td>\n",
              "      <td>8098.0</td>\n",
              "      <td>2.0</td>\n",
              "      <td>112.0</td>\n",
              "      <td>1.0</td>\n",
              "      <td>48.0</td>\n",
              "      <td>121.0</td>\n",
              "    </tr>\n",
              "  </tbody>\n",
              "</table>\n",
              "<p>5 rows × 22 columns</p>\n",
              "</div>\n",
              "      <button class=\"colab-df-convert\" onclick=\"convertToInteractive('df-f9e2033b-1894-4a0d-a87f-77780480553f')\"\n",
              "              title=\"Convert this dataframe to an interactive table.\"\n",
              "              style=\"display:none;\">\n",
              "        \n",
              "  <svg xmlns=\"http://www.w3.org/2000/svg\" height=\"24px\"viewBox=\"0 0 24 24\"\n",
              "       width=\"24px\">\n",
              "    <path d=\"M0 0h24v24H0V0z\" fill=\"none\"/>\n",
              "    <path d=\"M18.56 5.44l.94 2.06.94-2.06 2.06-.94-2.06-.94-.94-2.06-.94 2.06-2.06.94zm-11 1L8.5 8.5l.94-2.06 2.06-.94-2.06-.94L8.5 2.5l-.94 2.06-2.06.94zm10 10l.94 2.06.94-2.06 2.06-.94-2.06-.94-.94-2.06-.94 2.06-2.06.94z\"/><path d=\"M17.41 7.96l-1.37-1.37c-.4-.4-.92-.59-1.43-.59-.52 0-1.04.2-1.43.59L10.3 9.45l-7.72 7.72c-.78.78-.78 2.05 0 2.83L4 21.41c.39.39.9.59 1.41.59.51 0 1.02-.2 1.41-.59l7.78-7.78 2.81-2.81c.8-.78.8-2.07 0-2.86zM5.41 20L4 18.59l7.72-7.72 1.47 1.35L5.41 20z\"/>\n",
              "  </svg>\n",
              "      </button>\n",
              "      \n",
              "  <style>\n",
              "    .colab-df-container {\n",
              "      display:flex;\n",
              "      flex-wrap:wrap;\n",
              "      gap: 12px;\n",
              "    }\n",
              "\n",
              "    .colab-df-convert {\n",
              "      background-color: #E8F0FE;\n",
              "      border: none;\n",
              "      border-radius: 50%;\n",
              "      cursor: pointer;\n",
              "      display: none;\n",
              "      fill: #1967D2;\n",
              "      height: 32px;\n",
              "      padding: 0 0 0 0;\n",
              "      width: 32px;\n",
              "    }\n",
              "\n",
              "    .colab-df-convert:hover {\n",
              "      background-color: #E2EBFA;\n",
              "      box-shadow: 0px 1px 2px rgba(60, 64, 67, 0.3), 0px 1px 3px 1px rgba(60, 64, 67, 0.15);\n",
              "      fill: #174EA6;\n",
              "    }\n",
              "\n",
              "    [theme=dark] .colab-df-convert {\n",
              "      background-color: #3B4455;\n",
              "      fill: #D2E3FC;\n",
              "    }\n",
              "\n",
              "    [theme=dark] .colab-df-convert:hover {\n",
              "      background-color: #434B5C;\n",
              "      box-shadow: 0px 1px 3px 1px rgba(0, 0, 0, 0.15);\n",
              "      filter: drop-shadow(0px 1px 2px rgba(0, 0, 0, 0.3));\n",
              "      fill: #FFFFFF;\n",
              "    }\n",
              "  </style>\n",
              "\n",
              "      <script>\n",
              "        const buttonEl =\n",
              "          document.querySelector('#df-f9e2033b-1894-4a0d-a87f-77780480553f button.colab-df-convert');\n",
              "        buttonEl.style.display =\n",
              "          google.colab.kernel.accessAllowed ? 'block' : 'none';\n",
              "\n",
              "        async function convertToInteractive(key) {\n",
              "          const element = document.querySelector('#df-f9e2033b-1894-4a0d-a87f-77780480553f');\n",
              "          const dataTable =\n",
              "            await google.colab.kernel.invokeFunction('convertToInteractive',\n",
              "                                                     [key], {});\n",
              "          if (!dataTable) return;\n",
              "\n",
              "          const docLinkHtml = 'Like what you see? Visit the ' +\n",
              "            '<a target=\"_blank\" href=https://colab.research.google.com/notebooks/data_table.ipynb>data table notebook</a>'\n",
              "            + ' to learn more about interactive tables.';\n",
              "          element.innerHTML = '';\n",
              "          dataTable['output_type'] = 'display_data';\n",
              "          await google.colab.output.renderOutput(dataTable, element);\n",
              "          const docLink = document.createElement('div');\n",
              "          docLink.innerHTML = docLinkHtml;\n",
              "          element.appendChild(docLink);\n",
              "        }\n",
              "      </script>\n",
              "    </div>\n",
              "  </div>\n",
              "  "
            ]
          },
          "metadata": {}
        }
      ],
      "source": [
        "import pandas as pd\n",
        "import matplotlib.pyplot as plt\n",
        "data = pd.read_csv('real_estate_data.csv', sep = '\\t')\n",
        "display(data.head(5))"
      ]
    },
    {
      "cell_type": "markdown",
      "id": "72ffbd1a",
      "metadata": {
        "id": "72ffbd1a"
      },
      "source": [
        "#### **Вывод общей информации**"
      ]
    },
    {
      "cell_type": "code",
      "execution_count": 3,
      "id": "d89af548",
      "metadata": {
        "colab": {
          "base_uri": "https://localhost:8080/"
        },
        "id": "d89af548",
        "outputId": "f538b3bc-940f-4e63-afff-b49a43d7ae49"
      },
      "outputs": [
        {
          "output_type": "stream",
          "name": "stdout",
          "text": [
            "<class 'pandas.core.frame.DataFrame'>\n",
            "RangeIndex: 23699 entries, 0 to 23698\n",
            "Data columns (total 22 columns):\n",
            " #   Column                Non-Null Count  Dtype  \n",
            "---  ------                --------------  -----  \n",
            " 0   total_images          23699 non-null  int64  \n",
            " 1   last_price            23699 non-null  float64\n",
            " 2   total_area            23699 non-null  float64\n",
            " 3   first_day_exposition  23699 non-null  object \n",
            " 4   rooms                 23699 non-null  int64  \n",
            " 5   ceiling_height        14504 non-null  float64\n",
            " 6   floors_total          23613 non-null  float64\n",
            " 7   living_area           21796 non-null  float64\n",
            " 8   floor                 23699 non-null  int64  \n",
            " 9   is_apartment          2775 non-null   object \n",
            " 10  studio                23699 non-null  bool   \n",
            " 11  open_plan             23699 non-null  bool   \n",
            " 12  kitchen_area          21421 non-null  float64\n",
            " 13  balcony               12180 non-null  float64\n",
            " 14  locality_name         23650 non-null  object \n",
            " 15  airports_nearest      18157 non-null  float64\n",
            " 16  cityCenters_nearest   18180 non-null  float64\n",
            " 17  parks_around3000      18181 non-null  float64\n",
            " 18  parks_nearest         8079 non-null   float64\n",
            " 19  ponds_around3000      18181 non-null  float64\n",
            " 20  ponds_nearest         9110 non-null   float64\n",
            " 21  days_exposition       20518 non-null  float64\n",
            "dtypes: bool(2), float64(14), int64(3), object(3)\n",
            "memory usage: 3.7+ MB\n"
          ]
        }
      ],
      "source": [
        "data.info()"
      ]
    },
    {
      "cell_type": "markdown",
      "id": "4dbfaff6",
      "metadata": {
        "id": "4dbfaff6"
      },
      "source": [
        "#### **Построим гистограммы по столбцам таблицы**"
      ]
    },
    {
      "cell_type": "code",
      "execution_count": 5,
      "id": "7ffc782e",
      "metadata": {
        "colab": {
          "base_uri": "https://localhost:8080/",
          "height": 1000
        },
        "id": "7ffc782e",
        "outputId": "5f7da971-e8b0-4020-c1b3-2a5878d3a87d"
      },
      "outputs": [
        {
          "output_type": "display_data",
          "data": {
            "text/plain": [
              "<Figure size 1080x1440 with 20 Axes>"
            ],
            "image/png": "[encoded data removed]"
          },
          "metadata": {
            "needs_background": "light"
          }
        }
      ],
      "source": [
        "data.hist(bins = 30, figsize=(15, 20))\n",
        "None"
      ]
    },
    {
      "cell_type": "markdown",
      "id": "08d0c459",
      "metadata": {
        "id": "08d0c459"
      },
      "source": [
        "### Предобработка данных"
      ]
    },
    {
      "cell_type": "markdown",
      "id": "1e8d473a",
      "metadata": {
        "id": "1e8d473a"
      },
      "source": [
        "#### **Поиск и обработка пропущенных значений в каждом столбце**"
      ]
    },
    {
      "cell_type": "code",
      "execution_count": 6,
      "id": "b74ea415",
      "metadata": {
        "colab": {
          "base_uri": "https://localhost:8080/"
        },
        "id": "b74ea415",
        "outputId": "1aa5eaf5-e629-46ea-baac-465cfe2d21bc"
      },
      "outputs": [
        {
          "output_type": "execute_result",
          "data": {
            "text/plain": [
              "total_images                0\n",
              "last_price                  0\n",
              "total_area                  0\n",
              "first_day_exposition        0\n",
              "rooms                       0\n",
              "ceiling_height           9195\n",
              "floors_total               86\n",
              "living_area              1903\n",
              "floor                       0\n",
              "is_apartment            20924\n",
              "studio                      0\n",
              "open_plan                   0\n",
              "kitchen_area             2278\n",
              "balcony                 11519\n",
              "locality_name              49\n",
              "airports_nearest         5542\n",
              "cityCenters_nearest      5519\n",
              "parks_around3000         5518\n",
              "parks_nearest           15620\n",
              "ponds_around3000         5518\n",
              "ponds_nearest           14589\n",
              "days_exposition          3181\n",
              "dtype: int64"
            ]
          },
          "metadata": {},
          "execution_count": 6
        }
      ],
      "source": [
        "data.isna().sum()"
      ]
    },
    {
      "cell_type": "markdown",
      "id": "7c99e8ce",
      "metadata": {
        "id": "7c99e8ce"
      },
      "source": [
        "**Рассмотрим столбец living_area(жилая площадь в кв.м.). В этом столбце можно заменить пропуски на медианное значение жилой площади квартир с тем же количеством комнат**"
      ]
    },
    {
      "cell_type": "code",
      "execution_count": 7,
      "id": "2be80c12",
      "metadata": {
        "id": "2be80c12"
      },
      "outputs": [],
      "source": [
        "for t in data['rooms'].unique():\n",
        "    data.loc[(data['rooms'] == t) & (data['living_area'].isna()), 'living_area'] = \\\n",
        "    data.loc[(data['rooms'] == t), 'living_area'].median()"
      ]
    },
    {
      "cell_type": "markdown",
      "source": [
        "Заменим пропуски в столбце kitchen_area разностью общей площади и жилой"
      ],
      "metadata": {
        "id": "-IxhQ9zh_JVo"
      },
      "id": "-IxhQ9zh_JVo"
    },
    {
      "cell_type": "code",
      "execution_count": 8,
      "id": "c1ed6a4e",
      "metadata": {
        "id": "c1ed6a4e"
      },
      "outputs": [],
      "source": [
        "data['kitchen_area'] = data['kitchen_area'].fillna(data['total_area'] - data['living_area'])"
      ]
    },
    {
      "cell_type": "markdown",
      "id": "98800cf0",
      "metadata": {
        "id": "98800cf0"
      },
      "source": [
        "**Рассмотрим столбец с количеством балконов:**"
      ]
    },
    {
      "cell_type": "code",
      "execution_count": 9,
      "id": "8a389d5d",
      "metadata": {
        "colab": {
          "base_uri": "https://localhost:8080/"
        },
        "id": "8a389d5d",
        "outputId": "f117aede-6732-45b7-dc33-6e10d1dbfafb"
      },
      "outputs": [
        {
          "output_type": "execute_result",
          "data": {
            "text/plain": [
              "array([nan,  2.,  0.,  1.,  5.,  4.,  3.])"
            ]
          },
          "metadata": {},
          "execution_count": 9
        }
      ],
      "source": [
        "data['balcony'].unique()"
      ]
    },
    {
      "cell_type": "markdown",
      "id": "5ca35879",
      "metadata": {
        "id": "5ca35879"
      },
      "source": [
        "**Скорее всего, пропущенные значения здесь означают отсутствие балкона. Заменим пропуски на ноль**"
      ]
    },
    {
      "cell_type": "code",
      "execution_count": 10,
      "id": "7ffaeebe",
      "metadata": {
        "id": "7ffaeebe"
      },
      "outputs": [],
      "source": [
        "data['balcony'] = data['balcony'].fillna(0) "
      ]
    },
    {
      "cell_type": "markdown",
      "id": "52da473a",
      "metadata": {
        "id": "52da473a"
      },
      "source": [
        "#### **Замена типов данных столбцов**"
      ]
    },
    {
      "cell_type": "markdown",
      "id": "4b45dd48",
      "metadata": {
        "id": "4b45dd48"
      },
      "source": [
        "**Рассмотрим столбец first_day_exposition - дата публикации. Заменим тип данных object на datetime и округлим время до дней**"
      ]
    },
    {
      "cell_type": "code",
      "execution_count": 11,
      "id": "ce8ea4d1",
      "metadata": {
        "id": "ce8ea4d1"
      },
      "outputs": [],
      "source": [
        "data['first_day_exposition'] = pd.to_datetime(data['first_day_exposition'], format = '%Y-%m-%dT%H:%M:%S')\n",
        "data['first_day_exposition'] = data['first_day_exposition'].dt.round('1d')"
      ]
    },
    {
      "cell_type": "markdown",
      "id": "03cab37c",
      "metadata": {
        "id": "03cab37c"
      },
      "source": [
        "**Заменим тип данных столбца balcony с float64 на int64**"
      ]
    },
    {
      "cell_type": "code",
      "execution_count": 12,
      "id": "6ab54217",
      "metadata": {
        "id": "6ab54217"
      },
      "outputs": [],
      "source": [
        "data['balcony'] = data['balcony'].astype('int')"
      ]
    },
    {
      "cell_type": "markdown",
      "id": "c34cbbde",
      "metadata": {
        "id": "c34cbbde"
      },
      "source": [
        "#### **Устранение неявных дубликатов**"
      ]
    },
    {
      "cell_type": "markdown",
      "id": "b7668a87",
      "metadata": {
        "id": "b7668a87"
      },
      "source": [
        "**Устраним дубликаты в столбце locality_name (название населенного пункта)**"
      ]
    },
    {
      "cell_type": "code",
      "execution_count": 13,
      "id": "b2a956fa",
      "metadata": {
        "colab": {
          "base_uri": "https://localhost:8080/"
        },
        "id": "b2a956fa",
        "outputId": "eed1517f-4940-45f8-9af0-c0050d8902e7"
      },
      "outputs": [
        {
          "output_type": "execute_result",
          "data": {
            "text/plain": [
              "array(['Бокситогорск', 'Волосово', 'Волхов', 'Всеволожск', 'Выборг',\n",
              "       'Высоцк', 'Гатчина', 'Зеленогорск', 'Ивангород', 'Каменногорск',\n",
              "       'Кингисепп', 'Кириши', 'Кировск', 'Колпино', 'Коммунар',\n",
              "       'Красное Село', 'Кронштадт', 'Кудрово', 'Лодейное Поле',\n",
              "       'Ломоносов', 'Луга', 'Любань', 'Мурино', 'Никольское',\n",
              "       'Новая Ладога', 'Отрадное', 'Павловск', 'Петергоф', 'Пикалёво',\n",
              "       'Подпорожье', 'Приморск', 'Приозерск', 'Пушкин', 'Санкт-Петербург',\n",
              "       'Светогорск', 'Сертолово', 'Сестрорецк', 'Сланцы', 'Сосновый Бор',\n",
              "       'Сясьстрой', 'Тихвин', 'Тосно', 'Шлиссельбург',\n",
              "       'городской поселок Большая Ижора', 'городской поселок Янино-1',\n",
              "       'городской посёлок Будогощь', 'городской посёлок Виллози',\n",
              "       'городской посёлок Лесогорский', 'городской посёлок Мга',\n",
              "       'городской посёлок Назия', 'городской посёлок Новоселье',\n",
              "       'городской посёлок Павлово', 'городской посёлок Рощино',\n",
              "       'городской посёлок Свирьстрой', 'городской посёлок Советский',\n",
              "       'городской посёлок Фёдоровское', 'городской посёлок Янино-1',\n",
              "       'деревня Агалатово', 'деревня Аро', 'деревня Батово',\n",
              "       'деревня Бегуницы', 'деревня Белогорка', 'деревня Большая Вруда',\n",
              "       'деревня Большая Пустомержа', 'деревня Большие Колпаны',\n",
              "       'деревня Большое Рейзино', 'деревня Большой Сабск', 'деревня Бор',\n",
              "       'деревня Борисова Грива', 'деревня Ваганово', 'деревня Вартемяги',\n",
              "       'деревня Вахнова Кара', 'деревня Выскатка', 'деревня Гарболово',\n",
              "       'деревня Глинка', 'деревня Горбунки', 'деревня Гостилицы',\n",
              "       'деревня Заклинье', 'деревня Заневка', 'деревня Зимитицы',\n",
              "       'деревня Извара', 'деревня Иссад', 'деревня Калитино',\n",
              "       'деревня Кальтино', 'деревня Камышовка', 'деревня Каськово',\n",
              "       'деревня Келози', 'деревня Кипень', 'деревня Кисельня',\n",
              "       'деревня Колтуши', 'деревня Коркино', 'деревня Котлы',\n",
              "       'деревня Кривко', 'деревня Кудрово', 'деревня Кузьмолово',\n",
              "       'деревня Курковицы', 'деревня Куровицы', 'деревня Куттузи',\n",
              "       'деревня Лаврики', 'деревня Лаголово', 'деревня Лампово',\n",
              "       'деревня Лесколово', 'деревня Лопухинка', 'деревня Лупполово',\n",
              "       'деревня Малая Романовка', 'деревня Малое Верево',\n",
              "       'деревня Малое Карлино', 'деревня Малые Колпаны',\n",
              "       'деревня Мануйлово', 'деревня Меньково', 'деревня Мины',\n",
              "       'деревня Мистолово', 'деревня Ненимяки', 'деревня Нижние Осельки',\n",
              "       'деревня Нижняя', 'деревня Низино', 'деревня Новое Девяткино',\n",
              "       'деревня Новолисино', 'деревня Нурма', 'деревня Оржицы',\n",
              "       'деревня Парицы', 'деревня Пельгора', 'деревня Пеники',\n",
              "       'деревня Пижма', 'деревня Пикколово', 'деревня Пудомяги',\n",
              "       'деревня Пустынка', 'деревня Пчева', 'деревня Рабитицы',\n",
              "       'деревня Разбегаево', 'деревня Раздолье', 'деревня Разметелево',\n",
              "       'деревня Рапполово', 'деревня Реброво', 'деревня Русско',\n",
              "       'деревня Сижно', 'деревня Снегирёвка', 'деревня Старая',\n",
              "       'деревня Старая Пустошь', 'деревня Старое Хинколово',\n",
              "       'деревня Старополье', 'деревня Старосиверская',\n",
              "       'деревня Старые Бегуницы', 'деревня Суоранда',\n",
              "       'деревня Сяськелево', 'деревня Тарасово', 'деревня Терпилицы',\n",
              "       'деревня Тихковицы', 'деревня Тойворово', 'деревня Торосово',\n",
              "       'деревня Торошковичи', 'деревня Трубников Бор',\n",
              "       'деревня Фалилеево', 'деревня Фёдоровское', 'деревня Хапо-Ое',\n",
              "       'деревня Хязельки', 'деревня Чудской Бор', 'деревня Шпаньково',\n",
              "       'деревня Щеглово', 'деревня Юкки', 'деревня Ялгино',\n",
              "       'деревня Яльгелево', 'деревня Ям-Тесово',\n",
              "       'коттеджный поселок Кивеннапа Север', 'коттеджный поселок Счастье',\n",
              "       'коттеджный посёлок Лесное', 'поселок Аннино', 'поселок Барышево',\n",
              "       'поселок Бугры', 'поселок Возрождение', 'поселок Войсковицы',\n",
              "       'поселок Володарское', 'поселок Гаврилово', 'поселок Гарболово',\n",
              "       'поселок Гладкое', 'поселок Глажево', 'поселок Глебычево',\n",
              "       'поселок Гончарово', 'поселок Громово', 'поселок Дружноселье',\n",
              "       'поселок Елизаветино', 'поселок Жилгородок', 'поселок Жилпосёлок',\n",
              "       'поселок Житково', 'поселок Заводской', 'поселок Запорожское',\n",
              "       'поселок Зимитицы', 'поселок Ильичёво', 'поселок Калитино',\n",
              "       'поселок Каложицы', 'поселок Кингисеппский', 'поселок Кирпичное',\n",
              "       'поселок Кобралово', 'поселок Кобринское', 'поселок Коммунары',\n",
              "       'поселок Коробицыно', 'поселок Котельский',\n",
              "       'поселок Красная Долина', 'поселок Красносельское',\n",
              "       'поселок Лесное', 'поселок Лисий Нос', 'поселок Лукаши',\n",
              "       'поселок Любань', 'поселок Мельниково', 'поселок Мичуринское',\n",
              "       'поселок Молодцово', 'поселок Мурино', 'поселок Новый Свет',\n",
              "       'поселок Новый Учхоз', 'поселок Оредеж',\n",
              "       'поселок Пансионат Зелёный Бор', 'поселок Первомайское',\n",
              "       'поселок Перово', 'поселок Петровское', 'поселок Победа',\n",
              "       'поселок Поляны', 'поселок Почап', 'поселок Починок',\n",
              "       'поселок Пушное', 'поселок Пчевжа', 'поселок Рабитицы',\n",
              "       'поселок Романовка', 'поселок Ромашки', 'поселок Рябово',\n",
              "       'поселок Севастьяново', 'поселок Селезнёво', 'поселок Сельцо',\n",
              "       'поселок Семиозерье', 'поселок Семрино', 'поселок Серебрянский',\n",
              "       'поселок Совхозный', 'поселок Старая Малукса',\n",
              "       'поселок Стеклянный', 'поселок Сумино', 'поселок Суходолье',\n",
              "       'поселок Тельмана', 'поселок Терволово', 'поселок Торковичи',\n",
              "       'поселок Тёсово-4', 'поселок Углово', 'поселок Усть-Луга',\n",
              "       'поселок Ушаки', 'поселок Цвелодубово', 'поселок Цвылёво',\n",
              "       'поселок городского типа Большая Ижора',\n",
              "       'поселок городского типа Вырица',\n",
              "       'поселок городского типа Дружная Горка',\n",
              "       'поселок городского типа Дубровка',\n",
              "       'поселок городского типа Ефимовский',\n",
              "       'поселок городского типа Кондратьево',\n",
              "       'поселок городского типа Красный Бор',\n",
              "       'поселок городского типа Кузьмоловский',\n",
              "       'поселок городского типа Лебяжье',\n",
              "       'поселок городского типа Лесогорский',\n",
              "       'поселок городского типа Назия',\n",
              "       'поселок городского типа Никольский',\n",
              "       'поселок городского типа Приладожский',\n",
              "       'поселок городского типа Рахья', 'поселок городского типа Рощино',\n",
              "       'поселок городского типа Рябово',\n",
              "       'поселок городского типа Синявино',\n",
              "       'поселок городского типа Советский',\n",
              "       'поселок городского типа Токсово',\n",
              "       'поселок городского типа Форносово',\n",
              "       'поселок городского типа имени Свердлова',\n",
              "       'поселок станции Вещево', 'поселок станции Корнево',\n",
              "       'поселок станции Лужайка', 'поселок станции Приветнинское',\n",
              "       'посёлок Александровская', 'посёлок Алексеевка', 'посёлок Аннино',\n",
              "       'посёлок Белоостров', 'посёлок Бугры', 'посёлок Возрождение',\n",
              "       'посёлок Войскорово', 'посёлок Высокоключевой',\n",
              "       'посёлок Гаврилово', 'посёлок Дзержинского', 'посёлок Жилгородок',\n",
              "       'посёлок Ильичёво', 'посёлок Кикерино', 'посёлок Кобралово',\n",
              "       'посёлок Коробицыно', 'посёлок Левашово', 'посёлок Ленинское',\n",
              "       'посёлок Лисий Нос', 'посёлок Мельниково', 'посёлок Металлострой',\n",
              "       'посёлок Мичуринское', 'посёлок Молодёжное', 'посёлок Мурино',\n",
              "       'посёлок Мыза-Ивановка', 'посёлок Новогорелово',\n",
              "       'посёлок Новый Свет', 'посёлок Пансионат Зелёный Бор',\n",
              "       'посёлок Парголово', 'посёлок Перово', 'посёлок Песочный',\n",
              "       'посёлок Петро-Славянка', 'посёлок Петровское',\n",
              "       'посёлок Платформа 69-й километр', 'посёлок Плодовое',\n",
              "       'посёлок Плоское', 'посёлок Победа', 'посёлок Поляны',\n",
              "       'посёлок Понтонный', 'посёлок Пригородный', 'посёлок Пудость',\n",
              "       'посёлок Репино', 'посёлок Ропша', 'посёлок Сапёрное',\n",
              "       'посёлок Сапёрный', 'посёлок Сосново', 'посёлок Старая Малукса',\n",
              "       'посёлок Стеклянный', 'посёлок Стрельна', 'посёлок Суйда',\n",
              "       'посёлок Сумино', 'посёлок Тельмана', 'посёлок Терволово',\n",
              "       'посёлок Торфяное', 'посёлок Усть-Ижора', 'посёлок Усть-Луга',\n",
              "       'посёлок Форт Красная Горка', 'посёлок Шугозеро', 'посёлок Шушары',\n",
              "       'посёлок Щеглово', 'посёлок городского типа Важины',\n",
              "       'посёлок городского типа Вознесенье',\n",
              "       'посёлок городского типа Вырица',\n",
              "       'посёлок городского типа Красный Бор',\n",
              "       'посёлок городского типа Кузнечное',\n",
              "       'посёлок городского типа Кузьмоловский',\n",
              "       'посёлок городского типа Лебяжье', 'посёлок городского типа Мга',\n",
              "       'посёлок городского типа Павлово',\n",
              "       'посёлок городского типа Рощино', 'посёлок городского типа Рябово',\n",
              "       'посёлок городского типа Сиверский',\n",
              "       'посёлок городского типа Тайцы', 'посёлок городского типа Токсово',\n",
              "       'посёлок городского типа Ульяновка',\n",
              "       'посёлок городского типа Форносово',\n",
              "       'посёлок городского типа имени Морозова',\n",
              "       'посёлок городского типа имени Свердлова',\n",
              "       'посёлок при железнодорожной станции Вещево',\n",
              "       'посёлок при железнодорожной станции Приветнинское',\n",
              "       'посёлок станции Громово', 'посёлок станции Свирь',\n",
              "       'садоводческое некоммерческое товарищество Лесная Поляна',\n",
              "       'садовое товарищество Новая Ропша',\n",
              "       'садовое товарищество Приладожский', 'садовое товарищество Рахья',\n",
              "       'садовое товарищество Садко', 'село Копорье', 'село Никольское',\n",
              "       'село Павлово', 'село Паша', 'село Путилово', 'село Рождествено',\n",
              "       'село Русско-Высоцкое', 'село Старая Ладога', 'село Шум', nan],\n",
              "      dtype=object)"
            ]
          },
          "metadata": {},
          "execution_count": 13
        }
      ],
      "source": [
        "data['locality_name'].sort_values().unique()"
      ]
    },
    {
      "cell_type": "code",
      "execution_count": 14,
      "id": "64dfd080",
      "metadata": {
        "id": "64dfd080"
      },
      "outputs": [],
      "source": [
        "# Ф-ия local ищет в строке один из фрагментов 0-10 и, если находит, возвращает урезанную строку без фрагмента\n",
        "def local(row):\n",
        "    try:\n",
        "        fragment_0 = 'железнодорожной'\n",
        "        fragment_1 = 'станции'\n",
        "        fragment_2 = 'деревня'\n",
        "        fragment_3 = 'городской'\n",
        "        fragment_4 = 'коттеджный'\n",
        "        fragment_5 = 'городского'\n",
        "        fragment_6  = 'поселок'\n",
        "        fragment_7  = 'посёлок'\n",
        "        fragment_8  = 'село'\n",
        "        fragment_9  = 'некоммерческое'\n",
        "        fragment_10 = 'садовое товарищество'\n",
        "        if fragment_0 in row:\n",
        "            return row[36::]\n",
        "        if fragment_1 in row:\n",
        "            return row[16::]\n",
        "        if fragment_2 in row:\n",
        "            return row[8::]\n",
        "        if fragment_3 in row:\n",
        "            return row[18::]\n",
        "        if fragment_4 in row:\n",
        "            return row[19::]\n",
        "        if fragment_5 in row:\n",
        "            return row[24::]\n",
        "        if fragment_6 in row or fragment_7 in row:\n",
        "            return row[8::]\n",
        "        if fragment_8 in row:\n",
        "            return row[5::]\n",
        "        if fragment_9 in row:\n",
        "            return row[42::]\n",
        "        if fragment_10 in row:\n",
        "            return row[21::]\n",
        "        return row\n",
        "    except:\n",
        "        return row"
      ]
    },
    {
      "cell_type": "markdown",
      "id": "b55aba93",
      "metadata": {
        "id": "b55aba93"
      },
      "source": [
        "**В столбце locality_name 49 пропусков. Это значит, что мы можем без последствий удалить строки, где есть пропуск в столбце locality_name**"
      ]
    },
    {
      "cell_type": "code",
      "execution_count": 15,
      "id": "403c4235",
      "metadata": {
        "id": "403c4235"
      },
      "outputs": [],
      "source": [
        "data = data.dropna(subset = ['locality_name'])"
      ]
    },
    {
      "cell_type": "markdown",
      "id": "30c1a476",
      "metadata": {
        "id": "30c1a476"
      },
      "source": [
        "**Вызовем функцию local и результат ее работы запишем в новый столбец local_change**"
      ]
    },
    {
      "cell_type": "code",
      "execution_count": 16,
      "id": "8e50a083",
      "metadata": {
        "id": "8e50a083"
      },
      "outputs": [],
      "source": [
        "data['local_change'] = data['locality_name'].apply(local)"
      ]
    },
    {
      "cell_type": "markdown",
      "id": "00a22911",
      "metadata": {
        "id": "00a22911"
      },
      "source": [
        "#### **Обработка выбросов и аномальных значений**"
      ]
    },
    {
      "cell_type": "code",
      "execution_count": 17,
      "id": "34988a56",
      "metadata": {
        "colab": {
          "base_uri": "https://localhost:8080/"
        },
        "id": "34988a56",
        "outputId": "0a830aeb-7069-441d-c683-4ed929f04e0d"
      },
      "outputs": [
        {
          "output_type": "execute_result",
          "data": {
            "text/plain": [
              "total_images                0\n",
              "last_price                  0\n",
              "total_area                  0\n",
              "first_day_exposition        0\n",
              "rooms                       0\n",
              "ceiling_height           9160\n",
              "floors_total               85\n",
              "living_area                 0\n",
              "floor                       0\n",
              "is_apartment            20890\n",
              "studio                      0\n",
              "open_plan                   0\n",
              "kitchen_area                0\n",
              "balcony                     0\n",
              "locality_name               0\n",
              "airports_nearest         5534\n",
              "cityCenters_nearest      5511\n",
              "parks_around3000         5510\n",
              "parks_nearest           15586\n",
              "ponds_around3000         5510\n",
              "ponds_nearest           14565\n",
              "days_exposition          3180\n",
              "local_change                0\n",
              "dtype: int64"
            ]
          },
          "metadata": {},
          "execution_count": 17
        }
      ],
      "source": [
        "data.isna().sum()"
      ]
    },
    {
      "cell_type": "markdown",
      "id": "855f4e72",
      "metadata": {
        "id": "855f4e72"
      },
      "source": [
        "**В столбце rooms (количество комнат) удалим те строки, где комнат > 7**"
      ]
    },
    {
      "cell_type": "code",
      "execution_count": 18,
      "id": "261f0e87",
      "metadata": {
        "colab": {
          "base_uri": "https://localhost:8080/"
        },
        "id": "261f0e87",
        "outputId": "98b44b6f-9e47-4b8b-db3c-8c17f9d2f28b"
      },
      "outputs": [
        {
          "output_type": "execute_result",
          "data": {
            "text/plain": [
              "31"
            ]
          },
          "metadata": {},
          "execution_count": 18
        }
      ],
      "source": [
        "data['rooms'].loc[data['rooms'] > 7].count()"
      ]
    },
    {
      "cell_type": "markdown",
      "id": "4bd656da",
      "metadata": {
        "id": "4bd656da"
      },
      "source": [
        "**Таких строк всего 31, поэтому данные изменятся не критично**"
      ]
    },
    {
      "cell_type": "code",
      "execution_count": 19,
      "id": "fe5479a7",
      "metadata": {
        "id": "fe5479a7"
      },
      "outputs": [],
      "source": [
        "data = data.loc[data['rooms'] <= 7]"
      ]
    },
    {
      "cell_type": "markdown",
      "id": "0f6d5335",
      "metadata": {
        "id": "0f6d5335"
      },
      "source": [
        "**Рассмотрим столбец ceiling_height (высота потолков (м))** "
      ]
    },
    {
      "cell_type": "code",
      "execution_count": 20,
      "id": "b9633aea",
      "metadata": {
        "colab": {
          "base_uri": "https://localhost:8080/"
        },
        "id": "b9633aea",
        "outputId": "b199c331-3550-48b6-aae2-7521a4ec952f"
      },
      "outputs": [
        {
          "output_type": "execute_result",
          "data": {
            "text/plain": [
              "array([  1.  ,   1.2 ,   1.75,   2.  ,   2.2 ,   2.25,   2.3 ,   2.34,\n",
              "         2.4 ,   2.45,   2.46,   2.47,   2.48,   2.49,   2.5 ,   2.51,\n",
              "         2.52,   2.53,   2.54,   2.55,   2.56,   2.57,   2.58,   2.59,\n",
              "         2.6 ,   2.61,   2.62,   2.63,   2.64,   2.65,   2.66,   2.67,\n",
              "         2.68,   2.69,   2.7 ,   2.71,   2.72,   2.73,   2.74,   2.75,\n",
              "         2.76,   2.77,   2.78,   2.79,   2.8 ,   2.81,   2.82,   2.83,\n",
              "         2.84,   2.85,   2.86,   2.87,   2.88,   2.89,   2.9 ,   2.91,\n",
              "         2.92,   2.93,   2.94,   2.95,   2.96,   2.97,   2.98,   2.99,\n",
              "         3.  ,   3.01,   3.02,   3.03,   3.04,   3.05,   3.06,   3.07,\n",
              "         3.08,   3.09,   3.1 ,   3.11,   3.12,   3.13,   3.14,   3.15,\n",
              "         3.16,   3.17,   3.18,   3.2 ,   3.21,   3.22,   3.23,   3.24,\n",
              "         3.25,   3.26,   3.27,   3.28,   3.29,   3.3 ,   3.31,   3.32,\n",
              "         3.33,   3.34,   3.35,   3.36,   3.37,   3.38,   3.39,   3.4 ,\n",
              "         3.42,   3.44,   3.45,   3.46,   3.47,   3.48,   3.49,   3.5 ,\n",
              "         3.51,   3.52,   3.53,   3.54,   3.55,   3.56,   3.57,   3.58,\n",
              "         3.59,   3.6 ,   3.62,   3.63,   3.65,   3.66,   3.67,   3.68,\n",
              "         3.69,   3.7 ,   3.75,   3.76,   3.78,   3.8 ,   3.82,   3.83,\n",
              "         3.84,   3.85,   3.86,   3.87,   3.88,   3.9 ,   3.93,   3.95,\n",
              "         3.98,   4.  ,   4.06,   4.1 ,   4.14,   4.15,   4.19,   4.2 ,\n",
              "         4.25,   4.3 ,   4.37,   4.4 ,   4.45,   4.5 ,   4.65,   4.7 ,\n",
              "         4.8 ,   4.9 ,   5.  ,   5.2 ,   5.3 ,   5.5 ,   5.6 ,   5.8 ,\n",
              "         6.  ,   8.  ,   8.3 ,  10.3 ,  14.  ,  20.  ,  22.6 ,  24.  ,\n",
              "        25.  ,  26.  ,  27.  ,  27.5 ,  32.  , 100.  ,    nan])"
            ]
          },
          "metadata": {},
          "execution_count": 20
        }
      ],
      "source": [
        "data['ceiling_height'].sort_values().unique()"
      ]
    },
    {
      "cell_type": "markdown",
      "id": "18b3429b",
      "metadata": {
        "id": "18b3429b"
      },
      "source": [
        "**Очевидно, что высота не может быть такой большой, поэтому значения выше 19м уменьшим на порядок, т.к. это ошибка в записи**"
      ]
    },
    {
      "cell_type": "code",
      "execution_count": 21,
      "id": "89f265ac",
      "metadata": {
        "id": "89f265ac"
      },
      "outputs": [],
      "source": [
        "def height(row):\n",
        "    try:\n",
        "        if row >= 20:\n",
        "            return row/10\n",
        "    except:\n",
        "        return row\n",
        "    return row\n",
        "data['ceiling_height'] = data['ceiling_height'].apply(height)"
      ]
    },
    {
      "cell_type": "markdown",
      "id": "2f3bf7b2",
      "metadata": {
        "id": "2f3bf7b2"
      },
      "source": [
        "**В столбце ceiling_height (высота потолков) слишком много пропусков, поэтому удалить такие строки нельзя. Выборка вряд ли сильно изменится, если заменить все пропущенные значения на медианное**"
      ]
    },
    {
      "cell_type": "code",
      "execution_count": 22,
      "id": "6388dc3f",
      "metadata": {
        "id": "6388dc3f"
      },
      "outputs": [],
      "source": [
        "data['ceiling_height'] = data['ceiling_height'].fillna(data['ceiling_height'].median()) "
      ]
    },
    {
      "cell_type": "markdown",
      "id": "3f464b5e",
      "metadata": {
        "id": "3f464b5e"
      },
      "source": [
        "**Рассмотрим столбец kitchen_area**"
      ]
    },
    {
      "cell_type": "code",
      "execution_count": 23,
      "id": "a3ddcb6c",
      "metadata": {
        "colab": {
          "base_uri": "https://localhost:8080/"
        },
        "id": "a3ddcb6c",
        "outputId": "2b29080b-aca1-4b97-fbe3-7a14db746050"
      },
      "outputs": [
        {
          "output_type": "execute_result",
          "data": {
            "text/plain": [
              "array([-44.4  , -24.785, -21.6  , ..., 353.   , 436.4  , 476.5  ])"
            ]
          },
          "metadata": {},
          "execution_count": 23
        }
      ],
      "source": [
        "data['kitchen_area'].sort_values().unique()"
      ]
    },
    {
      "cell_type": "markdown",
      "id": "9b8fb263",
      "metadata": {
        "id": "9b8fb263"
      },
      "source": [
        "**Вряд ли кухня может быть такой большой, поэтому значения выше 20 кв.м уменьшим на порядок**"
      ]
    },
    {
      "cell_type": "code",
      "execution_count": 37,
      "id": "1092a4ee",
      "metadata": {
        "id": "1092a4ee"
      },
      "outputs": [],
      "source": [
        "def kitchen(row):\n",
        "    try:\n",
        "        if row >= 20:\n",
        "            return row/10\n",
        "\n",
        "        # Значения, записанные через тире программа воспринимает как минус, значит, берем по модулю\n",
        "        if row < 0:\n",
        "            row = abs(row)\n",
        "\n",
        "        # Исправляем ошибку порядка десятков\n",
        "        if row > 0 and row < 1:\n",
        "            row = 10*row\n",
        "    except:\n",
        "        return row\n",
        "    return row\n",
        "data['kitchen_area'] = data['kitchen_area'].apply(kitchen)"
      ]
    },
    {
      "cell_type": "code",
      "source": [
        "data['kitchen_area'].sort_values().unique()"
      ],
      "metadata": {
        "colab": {
          "base_uri": "https://localhost:8080/"
        },
        "id": "6HDpR55a_2Rl",
        "outputId": "c1119b91-a19a-401e-d3fc-f553773412ac"
      },
      "id": "6HDpR55a_2Rl",
      "execution_count": 38,
      "outputs": [
        {
          "output_type": "execute_result",
          "data": {
            "text/plain": [
              "array([ 0.  ,  1.  ,  1.2 , ..., 19.9 , 19.92, 19.94])"
            ]
          },
          "metadata": {},
          "execution_count": 38
        }
      ]
    },
    {
      "cell_type": "markdown",
      "id": "ca98fdbe",
      "metadata": {
        "id": "ca98fdbe"
      },
      "source": [
        "**Рассмотрим столбец близость к ближайшему аэропорту**"
      ]
    },
    {
      "cell_type": "code",
      "execution_count": 39,
      "id": "c08b45e2",
      "metadata": {
        "colab": {
          "base_uri": "https://localhost:8080/"
        },
        "id": "c08b45e2",
        "outputId": "50155bf8-2e04-4d00-f094-7982796b90d4"
      },
      "outputs": [
        {
          "output_type": "execute_result",
          "data": {
            "text/plain": [
              "array([ 6450.,  6914.,  6949., ..., 84853., 84869.,    nan])"
            ]
          },
          "metadata": {},
          "execution_count": 39
        }
      ],
      "source": [
        "data['airports_nearest'].sort_values().unique()     "
      ]
    },
    {
      "cell_type": "markdown",
      "id": "2d42bbbb",
      "metadata": {
        "id": "2d42bbbb"
      },
      "source": [
        "**Удалим строку со значением ноль**"
      ]
    },
    {
      "cell_type": "code",
      "execution_count": 40,
      "id": "c878c870",
      "metadata": {
        "id": "c878c870"
      },
      "outputs": [],
      "source": [
        "data = data.loc[data['airports_nearest'] != 0]"
      ]
    },
    {
      "cell_type": "markdown",
      "id": "12b44618",
      "metadata": {
        "id": "12b44618"
      },
      "source": [
        "**В столбце с ценой удалим аномально низкие (<100к) и аномально высокие значения (>100 млн)**"
      ]
    },
    {
      "cell_type": "code",
      "execution_count": 41,
      "id": "4e6d6b67",
      "metadata": {
        "id": "4e6d6b67"
      },
      "outputs": [],
      "source": [
        "data = data.loc[data['last_price'] > 100000]\n",
        "data = data.loc[data['last_price'] < 100000000]"
      ]
    },
    {
      "cell_type": "markdown",
      "id": "65b40439",
      "metadata": {
        "id": "65b40439"
      },
      "source": [
        "### Посчитаем и добавим в таблицу новые столбцы"
      ]
    },
    {
      "cell_type": "markdown",
      "id": "20592ec4",
      "metadata": {
        "id": "20592ec4"
      },
      "source": [
        "**Добавим столбец со стоимостью одного квадратного метра**"
      ]
    },
    {
      "cell_type": "code",
      "execution_count": 42,
      "id": "514e2e7e",
      "metadata": {
        "id": "514e2e7e"
      },
      "outputs": [],
      "source": [
        "data['per_square'] = data['last_price'] / data['total_area']"
      ]
    },
    {
      "cell_type": "markdown",
      "id": "c66d383c",
      "metadata": {
        "id": "c66d383c"
      },
      "source": [
        "**Добавим столбец с днем публикации объявления**"
      ]
    },
    {
      "cell_type": "code",
      "execution_count": 43,
      "id": "641c915c",
      "metadata": {
        "id": "641c915c"
      },
      "outputs": [],
      "source": [
        "data['number_day'] = data['first_day_exposition'].dt.weekday"
      ]
    },
    {
      "cell_type": "markdown",
      "id": "ad4198dc",
      "metadata": {
        "id": "ad4198dc"
      },
      "source": [
        "**Добавим столбец с месяцем публикации объявления**"
      ]
    },
    {
      "cell_type": "code",
      "execution_count": 44,
      "id": "512f799d",
      "metadata": {
        "id": "512f799d"
      },
      "outputs": [],
      "source": [
        "data['number_month'] = pd.DatetimeIndex(data['first_day_exposition']).month"
      ]
    },
    {
      "cell_type": "markdown",
      "id": "adca3076",
      "metadata": {
        "id": "adca3076"
      },
      "source": [
        "**Добавим столбец с годом публикации объявления**"
      ]
    },
    {
      "cell_type": "code",
      "execution_count": 45,
      "id": "bfd39291",
      "metadata": {
        "id": "bfd39291"
      },
      "outputs": [],
      "source": [
        "data['number_year'] = pd.DatetimeIndex(data['first_day_exposition']).year"
      ]
    },
    {
      "cell_type": "markdown",
      "id": "39cfcab2",
      "metadata": {
        "id": "39cfcab2"
      },
      "source": [
        "**Добавим столбец с типом этажа квартиры. В столбце floors_total есть пропуски, поэтому точно определить тип этажа в таких строках не получится. Проставим тип \"другой\"**"
      ]
    },
    {
      "cell_type": "code",
      "execution_count": 46,
      "id": "5d0b1a01",
      "metadata": {
        "id": "5d0b1a01"
      },
      "outputs": [],
      "source": [
        "def types(row):\n",
        "        try:\n",
        "            floor = row['floor']\n",
        "            floors = row['floors_total']\n",
        "            if floor == 1:\n",
        "                return 'первый'\n",
        "            elif floor == floors:\n",
        "                return 'последний'\n",
        "            return 'другой'\n",
        "        except:\n",
        "            return 'другой'\n",
        "data['type_floor'] = data.apply(types, axis = 1)"
      ]
    },
    {
      "cell_type": "markdown",
      "id": "797b2e5e",
      "metadata": {
        "id": "797b2e5e"
      },
      "source": [
        "**Добавим столбец с расстоянием до центра города в км**"
      ]
    },
    {
      "cell_type": "code",
      "execution_count": 47,
      "id": "d1a2c37f",
      "metadata": {
        "id": "d1a2c37f"
      },
      "outputs": [],
      "source": [
        "try:\n",
        "    data['city_сenters'] = round(data['cityCenters_nearest'] / 1000)\n",
        "except:\n",
        "    data['city_сenters'] = data['cityCenters_nearest']"
      ]
    },
    {
      "cell_type": "markdown",
      "id": "780ad250",
      "metadata": {
        "id": "780ad250"
      },
      "source": [
        "### Проведем исследовательский анализ данных"
      ]
    },
    {
      "cell_type": "code",
      "execution_count": 48,
      "id": "b41e8493",
      "metadata": {
        "colab": {
          "base_uri": "https://localhost:8080/"
        },
        "id": "b41e8493",
        "outputId": "59ca4184-650a-48f2-e569-ab8af350b464"
      },
      "outputs": [
        {
          "output_type": "execute_result",
          "data": {
            "text/plain": [
              "total_images                0\n",
              "last_price                  0\n",
              "total_area                  0\n",
              "first_day_exposition        0\n",
              "rooms                       0\n",
              "ceiling_height              0\n",
              "floors_total               85\n",
              "living_area                 0\n",
              "floor                       0\n",
              "is_apartment            20828\n",
              "studio                      0\n",
              "open_plan                   0\n",
              "kitchen_area                0\n",
              "balcony                     0\n",
              "locality_name               0\n",
              "airports_nearest         5533\n",
              "cityCenters_nearest      5510\n",
              "parks_around3000         5509\n",
              "parks_nearest           15570\n",
              "ponds_around3000         5509\n",
              "ponds_nearest           14546\n",
              "days_exposition          3168\n",
              "local_change                0\n",
              "per_square                  0\n",
              "number_day                  0\n",
              "number_month                0\n",
              "number_year                 0\n",
              "type_floor                  0\n",
              "city_сenters             5510\n",
              "dtype: int64"
            ]
          },
          "metadata": {},
          "execution_count": 48
        }
      ],
      "source": [
        "data.isna().sum()"
      ]
    },
    {
      "cell_type": "markdown",
      "id": "539a2958",
      "metadata": {
        "id": "539a2958"
      },
      "source": [
        "#### **Рассмотрим гистограммы данных**"
      ]
    },
    {
      "cell_type": "markdown",
      "id": "b717dbad",
      "metadata": {
        "id": "b717dbad"
      },
      "source": [
        "**Столбец \"total_area\" (общая площадь).**"
      ]
    },
    {
      "cell_type": "code",
      "execution_count": 49,
      "id": "f0f61f0e",
      "metadata": {
        "colab": {
          "base_uri": "https://localhost:8080/",
          "height": 313
        },
        "id": "f0f61f0e",
        "outputId": "3bf905d9-0724-4dfb-dd40-75e44758990b"
      },
      "outputs": [
        {
          "output_type": "display_data",
          "data": {
            "text/plain": [
              "<Figure size 1080x144 with 1 Axes>"
            ],
            "image/png": "[encoded data removed]"
          },
          "metadata": {
            "needs_background": "light"
          }
        },
        {
          "output_type": "execute_result",
          "data": {
            "text/plain": [
              "count    23583.000000\n",
              "mean        59.639252\n",
              "std         32.439105\n",
              "min         12.000000\n",
              "25%         40.000000\n",
              "50%         52.000000\n",
              "75%         69.300000\n",
              "max        517.000000\n",
              "Name: total_area, dtype: float64"
            ]
          },
          "metadata": {},
          "execution_count": 49
        }
      ],
      "source": [
        "data['total_area'].hist(bins = 40, figsize = (15,2), range = (0,250))\n",
        "plt.show()\n",
        "data['total_area'].describe()"
      ]
    },
    {
      "cell_type": "markdown",
      "id": "b49a500e",
      "metadata": {
        "id": "b49a500e"
      },
      "source": [
        "**Большинство недвижимости варьируется в диапазоне 40-50 кв.м. Однако, есть и очень маленькие и очень большие квартиры**"
      ]
    },
    {
      "cell_type": "markdown",
      "id": "3dc79acd",
      "metadata": {
        "id": "3dc79acd"
      },
      "source": [
        "**Столбец \"living_area\" (жилая площадь).**"
      ]
    },
    {
      "cell_type": "code",
      "execution_count": 50,
      "id": "29c93578",
      "metadata": {
        "colab": {
          "base_uri": "https://localhost:8080/",
          "height": 313
        },
        "id": "29c93578",
        "outputId": "86121ed5-62be-4595-ba90-36260fc2e2a9"
      },
      "outputs": [
        {
          "output_type": "display_data",
          "data": {
            "text/plain": [
              "<Figure size 1080x144 with 1 Axes>"
            ],
            "image/png": "[encoded data removed]"
          },
          "metadata": {
            "needs_background": "light"
          }
        },
        {
          "output_type": "execute_result",
          "data": {
            "text/plain": [
              "count    23583.000000\n",
              "mean        33.934746\n",
              "std         20.180258\n",
              "min          2.000000\n",
              "25%         18.370000\n",
              "50%         30.300000\n",
              "75%         42.500000\n",
              "max        347.500000\n",
              "Name: living_area, dtype: float64"
            ]
          },
          "metadata": {},
          "execution_count": 50
        }
      ],
      "source": [
        "data['living_area'].hist(bins = 30, figsize = (15,2), range = (0,100))\n",
        "plt.show()\n",
        "data['living_area'].describe()"
      ]
    },
    {
      "cell_type": "markdown",
      "id": "2c717ab4",
      "metadata": {
        "id": "2c717ab4"
      },
      "source": [
        "**Подозрительно большое проседание в районе 25 кв.м. Скорее всего, это из-за пропусков**"
      ]
    },
    {
      "cell_type": "markdown",
      "id": "9c744453",
      "metadata": {
        "id": "9c744453"
      },
      "source": [
        "**Столбец \"kitchen_area\" (площадь кухни).**"
      ]
    },
    {
      "cell_type": "code",
      "execution_count": 51,
      "id": "837fefb5",
      "metadata": {
        "colab": {
          "base_uri": "https://localhost:8080/",
          "height": 313
        },
        "id": "837fefb5",
        "outputId": "5fd3432c-d823-46bc-d04e-d530ae4251f4"
      },
      "outputs": [
        {
          "output_type": "display_data",
          "data": {
            "text/plain": [
              "<Figure size 1080x144 with 1 Axes>"
            ],
            "image/png": "[encoded data removed]"
          },
          "metadata": {
            "needs_background": "light"
          }
        },
        {
          "output_type": "execute_result",
          "data": {
            "text/plain": [
              "count    23583.000000\n",
              "mean         9.050663\n",
              "std          3.709142\n",
              "min          0.000000\n",
              "25%          6.300000\n",
              "50%          8.700000\n",
              "75%         11.000000\n",
              "max         19.940000\n",
              "Name: kitchen_area, dtype: float64"
            ]
          },
          "metadata": {},
          "execution_count": 51
        }
      ],
      "source": [
        "data['kitchen_area'].hist(bins = 30, figsize = (15,2), range = (0,40))\n",
        "plt.show()\n",
        "data['kitchen_area'].describe()"
      ]
    },
    {
      "cell_type": "markdown",
      "id": "c099c202",
      "metadata": {
        "id": "c099c202"
      },
      "source": [
        "**Кухни действительно малого размера. График это отражает, хоть и имеет \"резкий\" характер**"
      ]
    },
    {
      "cell_type": "markdown",
      "id": "4330f2c4",
      "metadata": {
        "id": "4330f2c4"
      },
      "source": [
        "**Столбец \"last_price\" (цена объекта)**"
      ]
    },
    {
      "cell_type": "code",
      "execution_count": 52,
      "id": "ce9c832f",
      "metadata": {
        "colab": {
          "base_uri": "https://localhost:8080/",
          "height": 380
        },
        "id": "ce9c832f",
        "outputId": "7818881c-98cd-4313-baae-899b2fa35488"
      },
      "outputs": [
        {
          "output_type": "display_data",
          "data": {
            "text/plain": [
              "<Figure size 1080x216 with 1 Axes>"
            ],
            "image/png": "[encoded data removed]"
          },
          "metadata": {
            "needs_background": "light"
          }
        },
        {
          "output_type": "execute_result",
          "data": {
            "text/plain": [
              "count    2.358300e+04\n",
              "mean     6.221911e+06\n",
              "std      6.349168e+06\n",
              "min      4.300000e+05\n",
              "25%      3.400000e+06\n",
              "50%      4.600000e+06\n",
              "75%      6.750000e+06\n",
              "max      9.900000e+07\n",
              "Name: last_price, dtype: float64"
            ]
          },
          "metadata": {},
          "execution_count": 52
        }
      ],
      "source": [
        "data['last_price'].hist(bins = 30, figsize = (15,3), range = (0,15000000))\n",
        "plt.show()\n",
        "data['last_price'].describe()"
      ]
    },
    {
      "cell_type": "markdown",
      "id": "fbfb4034",
      "metadata": {
        "id": "fbfb4034"
      },
      "source": [
        "**График цены выглядит вполне правдоподобно. Больше всего квартир в диапазоне 4 млн. Удалены строки со стоимостью меньше 100к, т.к. скорее всего это объявления об аренде. Квартиры с очень высокой стоимостью (>100 млн) может и реальны, но их тоже удалили, т.к. они редкие и сбивают графики**"
      ]
    },
    {
      "cell_type": "markdown",
      "id": "17608303",
      "metadata": {
        "id": "17608303"
      },
      "source": [
        "**Столбец \"rooms\" (количество комнат)**"
      ]
    },
    {
      "cell_type": "code",
      "execution_count": 53,
      "id": "cc0daa69",
      "metadata": {
        "colab": {
          "base_uri": "https://localhost:8080/",
          "height": 313
        },
        "id": "cc0daa69",
        "outputId": "75dfd81f-cd5f-470a-8090-523435f4c95e"
      },
      "outputs": [
        {
          "output_type": "display_data",
          "data": {
            "text/plain": [
              "<Figure size 1080x144 with 1 Axes>"
            ],
            "image/png": "[encoded data removed]"
          },
          "metadata": {
            "needs_background": "light"
          }
        },
        {
          "output_type": "execute_result",
          "data": {
            "text/plain": [
              "count    23583.000000\n",
              "mean         2.055718\n",
              "std          1.029643\n",
              "min          0.000000\n",
              "25%          1.000000\n",
              "50%          2.000000\n",
              "75%          3.000000\n",
              "max          7.000000\n",
              "Name: rooms, dtype: float64"
            ]
          },
          "metadata": {},
          "execution_count": 53
        }
      ],
      "source": [
        "data['rooms'].hist(bins = 7, figsize = (15,2), range = (0,7))\n",
        "plt.show()\n",
        "data['rooms'].describe()"
      ]
    },
    {
      "cell_type": "markdown",
      "id": "556e21b4",
      "metadata": {
        "id": "556e21b4"
      },
      "source": [
        "**В данном столбце мы удаляли аномально высокие значения количества комнат. Чаще всего встречаются однокомнатные. Нулевое количество комнат скорее всего писали для студий или коммунальных квартир**"
      ]
    },
    {
      "cell_type": "markdown",
      "id": "46618c21",
      "metadata": {
        "id": "46618c21"
      },
      "source": [
        "**Столбец \"ceiling_height\" (высота потолков)**"
      ]
    },
    {
      "cell_type": "code",
      "execution_count": 54,
      "id": "8a5702d8",
      "metadata": {
        "colab": {
          "base_uri": "https://localhost:8080/",
          "height": 313
        },
        "id": "8a5702d8",
        "outputId": "0b358803-448e-40d4-97df-a3d45b6f4aaa"
      },
      "outputs": [
        {
          "output_type": "display_data",
          "data": {
            "text/plain": [
              "<Figure size 1080x144 with 1 Axes>"
            ],
            "image/png": "[encoded data removed]"
          },
          "metadata": {
            "needs_background": "light"
          }
        },
        {
          "output_type": "execute_result",
          "data": {
            "text/plain": [
              "count    23583.000000\n",
              "mean         2.697134\n",
              "std          0.249573\n",
              "min          1.000000\n",
              "25%          2.600000\n",
              "50%          2.650000\n",
              "75%          2.700000\n",
              "max         14.000000\n",
              "Name: ceiling_height, dtype: float64"
            ]
          },
          "metadata": {},
          "execution_count": 54
        }
      ],
      "source": [
        "data['ceiling_height'].hist(bins = 25, figsize = (15,2), range = (2.5,3.5))\n",
        "plt.show()\n",
        "data['ceiling_height'].describe()"
      ]
    },
    {
      "cell_type": "markdown",
      "id": "eea8c3d7",
      "metadata": {
        "id": "eea8c3d7"
      },
      "source": [
        "**Данный столбец нельзя назвать точным, так как 9 тысяч пропусков были заменены на медианное значение 2.65 м**"
      ]
    },
    {
      "cell_type": "markdown",
      "id": "d6b92602",
      "metadata": {
        "id": "d6b92602"
      },
      "source": [
        "**Этаж, тип этажа, количество этажей в доме (столбцы \"floor\", \"type_floor\" и \"floors_total\")**"
      ]
    },
    {
      "cell_type": "code",
      "execution_count": 55,
      "id": "7b89fe9c",
      "metadata": {
        "colab": {
          "base_uri": "https://localhost:8080/",
          "height": 839
        },
        "id": "7b89fe9c",
        "outputId": "662d6aea-426f-4ab0-aa1e-7c251cecc533"
      },
      "outputs": [
        {
          "output_type": "display_data",
          "data": {
            "text/plain": [
              "<Figure size 1080x144 with 1 Axes>"
            ],
            "image/png": "[encoded data removed]"
          },
          "metadata": {
            "needs_background": "light"
          }
        },
        {
          "output_type": "display_data",
          "data": {
            "text/plain": [
              "count    23583.000000\n",
              "mean         5.896027\n",
              "std          4.885037\n",
              "min          1.000000\n",
              "25%          2.000000\n",
              "50%          4.000000\n",
              "75%          8.000000\n",
              "max         33.000000\n",
              "Name: floor, dtype: float64"
            ]
          },
          "metadata": {}
        },
        {
          "output_type": "display_data",
          "data": {
            "text/plain": [
              "<Figure size 1080x144 with 1 Axes>"
            ],
            "image/png": "[encoded data removed]"
          },
          "metadata": {
            "needs_background": "light"
          }
        },
        {
          "output_type": "display_data",
          "data": {
            "text/plain": [
              "count      23583\n",
              "unique         3\n",
              "top       другой\n",
              "freq       17371\n",
              "Name: type_floor, dtype: object"
            ]
          },
          "metadata": {}
        },
        {
          "output_type": "display_data",
          "data": {
            "text/plain": [
              "<Figure size 1080x144 with 1 Axes>"
            ],
            "image/png": "[encoded data removed]"
          },
          "metadata": {
            "needs_background": "light"
          }
        },
        {
          "output_type": "display_data",
          "data": {
            "text/plain": [
              "count    23498.000000\n",
              "mean        10.687931\n",
              "std          6.597463\n",
              "min          1.000000\n",
              "25%          5.000000\n",
              "50%          9.000000\n",
              "75%         16.000000\n",
              "max         60.000000\n",
              "Name: floors_total, dtype: float64"
            ]
          },
          "metadata": {}
        }
      ],
      "source": [
        "# Этаж\n",
        "data['floor'].hist(bins = 30, figsize = (15,2), range = (0,20))\n",
        "plt.show()\n",
        "display(data['floor'].describe())\n",
        "\n",
        "# Тип этажа\n",
        "data['type_floor'].hist(bins = 3, figsize = (15,2), range = (0,3))\n",
        "plt.show()\n",
        "display(data['type_floor'].describe())\n",
        "\n",
        "# Количество этажей в доме\n",
        "data['floors_total'].hist(bins = 30, figsize = (15,2), range = (0,30))\n",
        "plt.show()\n",
        "display(data['floors_total'].describe())"
      ]
    },
    {
      "cell_type": "markdown",
      "id": "62c7c27b",
      "metadata": {
        "id": "62c7c27b"
      },
      "source": [
        "**Чаще всего продавались квартиры на низких этажах (ниже 6-ого). Старые 9-ти этажные панельные дома дают о себе знать**"
      ]
    },
    {
      "cell_type": "markdown",
      "id": "b170cdf6",
      "metadata": {
        "id": "b170cdf6"
      },
      "source": [
        "**Столбец cityCenters_nearest (расстояние до центра города в метрах)**"
      ]
    },
    {
      "cell_type": "code",
      "execution_count": 56,
      "id": "5479560b",
      "metadata": {
        "colab": {
          "base_uri": "https://localhost:8080/",
          "height": 313
        },
        "id": "5479560b",
        "outputId": "f4308dfe-5f2f-4f57-a0a2-7f61face94e8"
      },
      "outputs": [
        {
          "output_type": "display_data",
          "data": {
            "text/plain": [
              "<Figure size 1080x144 with 1 Axes>"
            ],
            "image/png": "[encoded data removed]"
          },
          "metadata": {
            "needs_background": "light"
          }
        },
        {
          "output_type": "display_data",
          "data": {
            "text/plain": [
              "count    18073.000000\n",
              "mean     14229.101367\n",
              "std       8601.440235\n",
              "min        181.000000\n",
              "25%       9289.000000\n",
              "50%      13135.000000\n",
              "75%      16298.000000\n",
              "max      65968.000000\n",
              "Name: cityCenters_nearest, dtype: float64"
            ]
          },
          "metadata": {}
        }
      ],
      "source": [
        "data['cityCenters_nearest'].hist(bins = 30, figsize = (15,2), range = (0,40000))\n",
        "plt.show()\n",
        "display(data['cityCenters_nearest'].describe())"
      ]
    },
    {
      "cell_type": "markdown",
      "id": "4b0761a0",
      "metadata": {
        "id": "4b0761a0"
      },
      "source": [
        "**В этом столбце более 5 тысяч пропусков, но заменить их нельзя, т.к. нельзя предугадать где находится объект. Удалить их тоже нельзя, т.к. тогда пропадет более 20% выборки**"
      ]
    },
    {
      "cell_type": "markdown",
      "id": "10be2451",
      "metadata": {
        "id": "10be2451"
      },
      "source": [
        "**Столбец airports_nearest (расстояние до ближайшего аэропорта в метрах)**"
      ]
    },
    {
      "cell_type": "code",
      "execution_count": 57,
      "id": "91606310",
      "metadata": {
        "colab": {
          "base_uri": "https://localhost:8080/",
          "height": 313
        },
        "id": "91606310",
        "outputId": "32cb94f3-26bc-4eda-dbbb-839b346ab753"
      },
      "outputs": [
        {
          "output_type": "display_data",
          "data": {
            "text/plain": [
              "<Figure size 1080x144 with 1 Axes>"
            ],
            "image/png": "[encoded data removed]"
          },
          "metadata": {
            "needs_background": "light"
          }
        },
        {
          "output_type": "display_data",
          "data": {
            "text/plain": [
              "count    18050.000000\n",
              "mean     28818.191025\n",
              "std      12651.325446\n",
              "min       6450.000000\n",
              "25%      18557.000000\n",
              "50%      26770.000000\n",
              "75%      37334.750000\n",
              "max      84869.000000\n",
              "Name: airports_nearest, dtype: float64"
            ]
          },
          "metadata": {}
        }
      ],
      "source": [
        "data['airports_nearest'].hist(bins = 40, figsize = (15,2), range = (6000,70000))\n",
        "plt.show()\n",
        "display(data['airports_nearest'].describe())"
      ]
    },
    {
      "cell_type": "markdown",
      "id": "c9f3d227",
      "metadata": {
        "id": "c9f3d227"
      },
      "source": [
        "**В этом столбце также много пропусков.**"
      ]
    },
    {
      "cell_type": "markdown",
      "id": "5fead907",
      "metadata": {
        "id": "5fead907"
      },
      "source": [
        "**Столбец parks_nearest (расстояние до ближайшего парка в метрах)**"
      ]
    },
    {
      "cell_type": "code",
      "execution_count": 59,
      "id": "591e719a",
      "metadata": {
        "colab": {
          "base_uri": "https://localhost:8080/",
          "height": 313
        },
        "id": "591e719a",
        "outputId": "04d48085-82bf-4164-89ed-77af17059b7f"
      },
      "outputs": [
        {
          "output_type": "display_data",
          "data": {
            "text/plain": [
              "<Figure size 1080x144 with 1 Axes>"
            ],
            "image/png": "[encoded data removed]"
          },
          "metadata": {
            "needs_background": "light"
          }
        },
        {
          "output_type": "display_data",
          "data": {
            "text/plain": [
              "count    8013.000000\n",
              "mean      491.150006\n",
              "std       342.934815\n",
              "min         1.000000\n",
              "25%       288.000000\n",
              "50%       455.000000\n",
              "75%       612.000000\n",
              "max      3190.000000\n",
              "Name: parks_nearest, dtype: float64"
            ]
          },
          "metadata": {}
        }
      ],
      "source": [
        "data['parks_nearest'].hist(bins = 40, figsize = (15,2), range = (0,1500))\n",
        "plt.show()\n",
        "display(data['parks_nearest'].describe())"
      ]
    },
    {
      "cell_type": "markdown",
      "id": "bdfa02a5",
      "metadata": {
        "id": "bdfa02a5"
      },
      "source": [
        "**Для решения задачи нам не понадобятся эти данные, поэтому закроем глаза на 15 тысяч пропусков**"
      ]
    },
    {
      "cell_type": "markdown",
      "id": "0aff2004",
      "metadata": {
        "id": "0aff2004"
      },
      "source": [
        "**Столбцы number_day и number_month (день и месяц публикации объявления)**"
      ]
    },
    {
      "cell_type": "code",
      "execution_count": 61,
      "id": "c187eacc",
      "metadata": {
        "colab": {
          "base_uri": "https://localhost:8080/",
          "height": 609
        },
        "id": "c187eacc",
        "outputId": "fdbcdefd-11ec-4bc5-a460-c2b2f0655d3d"
      },
      "outputs": [
        {
          "output_type": "display_data",
          "data": {
            "text/plain": [
              "<Figure size 1080x144 with 1 Axes>"
            ],
            "image/png": "[encoded data removed]"
          },
          "metadata": {
            "needs_background": "light"
          }
        },
        {
          "output_type": "display_data",
          "data": {
            "text/plain": [
              "count    23583.000000\n",
              "mean         2.568630\n",
              "std          1.788881\n",
              "min          0.000000\n",
              "25%          1.000000\n",
              "50%          3.000000\n",
              "75%          4.000000\n",
              "max          6.000000\n",
              "Name: number_day, dtype: float64"
            ]
          },
          "metadata": {}
        },
        {
          "output_type": "display_data",
          "data": {
            "text/plain": [
              "<Figure size 1080x144 with 1 Axes>"
            ],
            "image/png": "[encoded data removed]"
          },
          "metadata": {
            "needs_background": "light"
          }
        },
        {
          "output_type": "display_data",
          "data": {
            "text/plain": [
              "count    23583.000000\n",
              "mean         6.403977\n",
              "std          3.491866\n",
              "min          1.000000\n",
              "25%          3.000000\n",
              "50%          6.000000\n",
              "75%         10.000000\n",
              "max         12.000000\n",
              "Name: number_month, dtype: float64"
            ]
          },
          "metadata": {}
        }
      ],
      "source": [
        "data['number_day'].hist(bins = 7, figsize = (15,2), range = (0,7))\n",
        "plt.show()\n",
        "display(data['number_day'].describe())\n",
        "data['number_month'].hist(bins = 12, figsize = (15,2), range = (1,13))\n",
        "plt.show()\n",
        "display(data['number_month'].describe())"
      ]
    },
    {
      "cell_type": "markdown",
      "id": "48dc2ff4",
      "metadata": {
        "id": "48dc2ff4"
      },
      "source": [
        "**Реже всего объявления о продаже публикуются в выходные. Спад наблюдается в мае, после чего количество объявлений возрастает до ноября и в декабре резко падает. Пик наблюдается в феврале и далее число объявлений снижается до мая**"
      ]
    },
    {
      "cell_type": "markdown",
      "id": "b08baf91",
      "metadata": {
        "id": "b08baf91"
      },
      "source": [
        "#### Изучим, как быстро продавались квартиры по времени продажи (столбец days_exposition)"
      ]
    },
    {
      "cell_type": "markdown",
      "id": "093e8dc6",
      "metadata": {
        "id": "093e8dc6"
      },
      "source": [
        "**Построим гистограмму**"
      ]
    },
    {
      "cell_type": "code",
      "execution_count": 62,
      "id": "aa447a8c",
      "metadata": {
        "colab": {
          "base_uri": "https://localhost:8080/",
          "height": 313
        },
        "id": "aa447a8c",
        "outputId": "92844e69-d990-47ab-8e79-ae2e3b5da1e2"
      },
      "outputs": [
        {
          "output_type": "display_data",
          "data": {
            "text/plain": [
              "<Figure size 1080x144 with 1 Axes>"
            ],
            "image/png": "[encoded data removed]"
          },
          "metadata": {
            "needs_background": "light"
          }
        },
        {
          "output_type": "display_data",
          "data": {
            "text/plain": [
              "count    20415.000000\n",
              "mean       180.308842\n",
              "std        219.315035\n",
              "min          1.000000\n",
              "25%         45.000000\n",
              "50%         95.000000\n",
              "75%        230.500000\n",
              "max       1580.000000\n",
              "Name: days_exposition, dtype: float64"
            ]
          },
          "metadata": {}
        }
      ],
      "source": [
        "data['days_exposition'].hist(bins = 50, figsize = (15,2), range = (0,300))\n",
        "plt.show()\n",
        "display(data['days_exposition'].describe())"
      ]
    },
    {
      "cell_type": "markdown",
      "id": "3eca899d",
      "metadata": {
        "id": "3eca899d"
      },
      "source": [
        "**Рассмотрим характеристики:**  \n",
        "В данном столбце обнаружено 3 тысячи пропусков (13%), поэтому данные могут быть не совсем корректны  \n",
        "- Среднее время - 180 дней\n",
        "- Медиана - 95 дней  \n",
        "Такая разница обусловлена тем, что некоторые объекты продаются очень долго.  \n",
        "В среднем, продажа недвижимости занимает около 3-ёх месяцев.  \n",
        "Если продажа была совершена менее, чем за 1.5 месяца, то такую продажу можно считать очень быстрой (до 1-ого квартиля).  \n",
        "Очень долгой можно считать продажу дольше 7.5 месяцев (230 дней. После 3его квартиля)"
      ]
    },
    {
      "cell_type": "markdown",
      "id": "bdde5482",
      "metadata": {
        "id": "bdde5482"
      },
      "source": [
        "#### Рассмотрим, какие факторы больше всего влияют на общую (полную) стоимость объекта?"
      ]
    },
    {
      "cell_type": "markdown",
      "id": "b699f2cd",
      "metadata": {
        "id": "b699f2cd"
      },
      "source": [
        "##### Зависимость цены от общей площади"
      ]
    },
    {
      "cell_type": "markdown",
      "id": "9bb76969",
      "metadata": {
        "id": "9bb76969"
      },
      "source": [
        "**Составим график по столбцам last_price (цена на момент снятия) и total_area (общая площадь)**"
      ]
    },
    {
      "cell_type": "code",
      "execution_count": 63,
      "id": "6c524c9b",
      "metadata": {
        "colab": {
          "base_uri": "https://localhost:8080/",
          "height": 634
        },
        "id": "6c524c9b",
        "outputId": "6bcc020b-b099-4975-ff9c-445c3a3a48a2"
      },
      "outputs": [
        {
          "output_type": "execute_result",
          "data": {
            "text/plain": [
              "<matplotlib.axes._subplots.AxesSubplot at 0x7fbeda049210>"
            ]
          },
          "metadata": {},
          "execution_count": 63
        },
        {
          "output_type": "display_data",
          "data": {
            "text/plain": [
              "<Figure size 1080x720 with 1 Axes>"
            ],
            "image/png": "[encoded data removed]"
          },
          "metadata": {
            "needs_background": "light"
          }
        }
      ],
      "source": [
        "data.plot(x='total_area',\n",
        "    y='last_price',\n",
        "    style='o',\n",
        "    xlim=(0, 300),\n",
        "    ylim=(0, 0.5e8),\n",
        "    figsize=(15, 10),\n",
        "    grid=True\n",
        ")"
      ]
    },
    {
      "cell_type": "markdown",
      "id": "a1b36683",
      "metadata": {
        "id": "a1b36683"
      },
      "source": [
        "**По графику можно заметить, что с увеличением общей площади растет и стоимость объекта в среднем, хоть и существуют выбивающиеся из тенденции значения.**"
      ]
    },
    {
      "cell_type": "markdown",
      "id": "bb466f98",
      "metadata": {
        "id": "bb466f98"
      },
      "source": [
        "**Расчет коэффициента корреляции**"
      ]
    },
    {
      "cell_type": "code",
      "execution_count": 64,
      "id": "9878d250",
      "metadata": {
        "colab": {
          "base_uri": "https://localhost:8080/"
        },
        "id": "9878d250",
        "outputId": "37ff235a-3443-4d1d-91eb-ac3667507444"
      },
      "outputs": [
        {
          "output_type": "stream",
          "name": "stdout",
          "text": [
            "0.766721480488597\n"
          ]
        }
      ],
      "source": [
        "print(data['total_area'].corr(data['last_price']))"
      ]
    },
    {
      "cell_type": "markdown",
      "id": "38d5ad10",
      "metadata": {
        "id": "38d5ad10"
      },
      "source": [
        "**Можно сделать вывод, что зависимость цены от общей площади является достаточно сильной и прямо пропорциональной**"
      ]
    },
    {
      "cell_type": "markdown",
      "id": "77de3a6f",
      "metadata": {
        "id": "77de3a6f"
      },
      "source": [
        "##### Зависимость цены от жилой площади"
      ]
    },
    {
      "cell_type": "markdown",
      "id": "9bbb8171",
      "metadata": {
        "id": "9bbb8171"
      },
      "source": [
        "**Составим график по столбцам last_price (цена на момент снятия) и living_area (жилая площадь)**"
      ]
    },
    {
      "cell_type": "code",
      "execution_count": 65,
      "id": "4848db6c",
      "metadata": {
        "colab": {
          "base_uri": "https://localhost:8080/",
          "height": 906
        },
        "id": "4848db6c",
        "outputId": "3452d681-f78c-4b49-a851-312cc7d5f089"
      },
      "outputs": [
        {
          "output_type": "execute_result",
          "data": {
            "text/plain": [
              "<matplotlib.axes._subplots.AxesSubplot at 0x7fbed65f0dd0>"
            ]
          },
          "metadata": {},
          "execution_count": 65
        },
        {
          "output_type": "display_data",
          "data": {
            "text/plain": [
              "<Figure size 1080x1080 with 1 Axes>"
            ],
            "image/png": "[encoded data removed]"
          },
          "metadata": {
            "needs_background": "light"
          }
        }
      ],
      "source": [
        "data.plot(x='living_area',\n",
        "    y='last_price',\n",
        "    style='o',\n",
        "    xlim=(0, 100),\n",
        "    ylim=(0, 0.35e8),\n",
        "    figsize=(15, 15),\n",
        "    grid=True\n",
        ")"
      ]
    },
    {
      "cell_type": "markdown",
      "id": "860ed246",
      "metadata": {
        "id": "860ed246"
      },
      "source": [
        "**По графику можно заметить, что с увеличением жилой площади растет и стоимость объекта в среднем, хоть и существуют выбивающиеся из тенденции значения.**"
      ]
    },
    {
      "cell_type": "markdown",
      "id": "b9a0ce61",
      "metadata": {
        "id": "b9a0ce61"
      },
      "source": [
        "**Расчет коэффициента корреляции**"
      ]
    },
    {
      "cell_type": "code",
      "execution_count": 66,
      "id": "28ed733e",
      "metadata": {
        "colab": {
          "base_uri": "https://localhost:8080/"
        },
        "id": "28ed733e",
        "outputId": "a8ee1a34-c5dd-4d73-abc9-5926b6e33a24"
      },
      "outputs": [
        {
          "output_type": "stream",
          "name": "stdout",
          "text": [
            "0.6515956951785064\n"
          ]
        }
      ],
      "source": [
        "print(data['living_area'].corr(data['last_price']))"
      ]
    },
    {
      "cell_type": "markdown",
      "id": "eecab9fe",
      "metadata": {
        "id": "eecab9fe"
      },
      "source": [
        "**В данном сравнении зависимость меньше, но все еще прямо пропорциональная и превышает 0.5**"
      ]
    },
    {
      "cell_type": "markdown",
      "id": "5d314d90",
      "metadata": {
        "id": "5d314d90"
      },
      "source": [
        "##### Зависимость цены от площади кухни"
      ]
    },
    {
      "cell_type": "markdown",
      "id": "70b07457",
      "metadata": {
        "id": "70b07457"
      },
      "source": [
        "**Составим график по столбцам last_price (цена на момент снятия) и kitchen_area (площадь кухни)**"
      ]
    },
    {
      "cell_type": "code",
      "execution_count": 67,
      "id": "f792ee24",
      "metadata": {
        "colab": {
          "base_uri": "https://localhost:8080/",
          "height": 906
        },
        "id": "f792ee24",
        "outputId": "69087f48-0fc6-4975-e86c-8b44acc776c1"
      },
      "outputs": [
        {
          "output_type": "execute_result",
          "data": {
            "text/plain": [
              "<matplotlib.axes._subplots.AxesSubplot at 0x7fbed6b587d0>"
            ]
          },
          "metadata": {},
          "execution_count": 67
        },
        {
          "output_type": "display_data",
          "data": {
            "text/plain": [
              "<Figure size 1080x1080 with 1 Axes>"
            ],
            "image/png": "[encoded data removed]"
          },
          "metadata": {
            "needs_background": "light"
          }
        }
      ],
      "source": [
        "data.plot(x='kitchen_area',\n",
        "    y='last_price',\n",
        "    style='o',\n",
        "    xlim=(0, 20),\n",
        "    ylim=(0, 0.5e8),\n",
        "    figsize=(15, 15),\n",
        "    grid=True\n",
        ")"
      ]
    },
    {
      "cell_type": "markdown",
      "id": "8dda0f2b",
      "metadata": {
        "id": "8dda0f2b"
      },
      "source": [
        "**С площадью кухни все далеко не так однозначно. Зависимость не прослеживается. Площадь кухни либо не влияет, либо влияет очень слабо на стоимость жилья**"
      ]
    },
    {
      "cell_type": "markdown",
      "id": "27ba9566",
      "metadata": {
        "id": "27ba9566"
      },
      "source": [
        "**Расчитаем коэффициент корреляции Пирсона**"
      ]
    },
    {
      "cell_type": "code",
      "execution_count": 68,
      "id": "b4a6f885",
      "metadata": {
        "colab": {
          "base_uri": "https://localhost:8080/"
        },
        "id": "b4a6f885",
        "outputId": "a819c2e0-5a10-45e1-82fa-091e82e348e1"
      },
      "outputs": [
        {
          "output_type": "stream",
          "name": "stdout",
          "text": [
            "0.06976967371163757\n"
          ]
        }
      ],
      "source": [
        "print(data['kitchen_area'].corr(data['last_price']))"
      ]
    },
    {
      "cell_type": "markdown",
      "id": "04d62323",
      "metadata": {
        "id": "04d62323"
      },
      "source": [
        "**Предположение подтвердилось:  \n",
        "Площадь кухни действительно никак не связана с ценообразованием**"
      ]
    },
    {
      "cell_type": "markdown",
      "id": "ddebf477",
      "metadata": {
        "id": "ddebf477"
      },
      "source": [
        "##### Зависимость цены от количества комнат"
      ]
    },
    {
      "cell_type": "markdown",
      "id": "77e300cc",
      "metadata": {
        "id": "77e300cc"
      },
      "source": [
        "**Составим график по столбцам last_price (цена на момент снятия) и rooms (количество комнат)**"
      ]
    },
    {
      "cell_type": "code",
      "execution_count": 69,
      "id": "451e9c0d",
      "metadata": {
        "colab": {
          "base_uri": "https://localhost:8080/",
          "height": 307
        },
        "id": "451e9c0d",
        "outputId": "a528402d-5875-4c6a-fab7-fac0eaa59f67"
      },
      "outputs": [
        {
          "output_type": "execute_result",
          "data": {
            "text/plain": [
              "<matplotlib.axes._subplots.AxesSubplot at 0x7fbed6ae3210>"
            ]
          },
          "metadata": {},
          "execution_count": 69
        },
        {
          "output_type": "display_data",
          "data": {
            "text/plain": [
              "<Figure size 432x288 with 1 Axes>"
            ],
            "image/png": "[encoded data removed]"
          },
          "metadata": {
            "needs_background": "light"
          }
        }
      ],
      "source": [
        "(data\n",
        "    .pivot_table(index='rooms', values='last_price')\n",
        "    .plot(grid = True)\n",
        ")"
      ]
    },
    {
      "cell_type": "markdown",
      "id": "1714409f",
      "metadata": {
        "id": "1714409f"
      },
      "source": [
        "**Зависимость является прямо пропорциональной и достаточно сильной**"
      ]
    },
    {
      "cell_type": "markdown",
      "id": "f11fd3bd",
      "metadata": {
        "id": "f11fd3bd"
      },
      "source": [
        "**Расчитаем коэффициент корреляции Пирсона**"
      ]
    },
    {
      "cell_type": "code",
      "execution_count": 70,
      "id": "0dcaba98",
      "metadata": {
        "colab": {
          "base_uri": "https://localhost:8080/"
        },
        "id": "0dcaba98",
        "outputId": "86f41d85-9ab4-465f-def7-06f7251a52ef"
      },
      "outputs": [
        {
          "output_type": "stream",
          "name": "stdout",
          "text": [
            "0.4612726080619954\n"
          ]
        }
      ],
      "source": [
        "print(data['rooms'].corr(data['last_price']))"
      ]
    },
    {
      "cell_type": "markdown",
      "id": "fd98f623",
      "metadata": {
        "id": "fd98f623"
      },
      "source": [
        "##### Зависимость цены от типа этажа"
      ]
    },
    {
      "cell_type": "markdown",
      "id": "0fa24204",
      "metadata": {
        "id": "0fa24204"
      },
      "source": [
        "**Составим график по столбцам last_price (цена на момент снятия) и type_floor (тип этажа)**"
      ]
    },
    {
      "cell_type": "code",
      "execution_count": 71,
      "id": "79bbede7",
      "metadata": {
        "colab": {
          "base_uri": "https://localhost:8080/",
          "height": 308
        },
        "id": "79bbede7",
        "outputId": "e1046ce1-46dd-42c8-e5ba-b0aed4baf52e"
      },
      "outputs": [
        {
          "output_type": "execute_result",
          "data": {
            "text/plain": [
              "<matplotlib.axes._subplots.AxesSubplot at 0x7fbed695b050>"
            ]
          },
          "metadata": {},
          "execution_count": 71
        },
        {
          "output_type": "display_data",
          "data": {
            "text/plain": [
              "<Figure size 432x288 with 1 Axes>"
            ],
            "image/png": "[encoded data removed]"
          },
          "metadata": {
            "needs_background": "light"
          }
        }
      ],
      "source": [
        "(data\n",
        "    .pivot_table(index='type_floor', values='last_price')\n",
        "    .plot(grid = True)\n",
        ")"
      ]
    },
    {
      "cell_type": "markdown",
      "id": "0b461ca1",
      "metadata": {
        "id": "0b461ca1"
      },
      "source": [
        "**Медианная стоимость квартир гораздо ниже на первом этаже. Последний этаж и все остальные имеют примерно одинаковую стоимость**"
      ]
    },
    {
      "cell_type": "markdown",
      "id": "e86cb17e",
      "metadata": {
        "id": "e86cb17e"
      },
      "source": [
        "##### Зависимость цены от дня, месяца и года размещения объявления"
      ]
    },
    {
      "cell_type": "markdown",
      "id": "fe7d69da",
      "metadata": {
        "id": "fe7d69da"
      },
      "source": [
        "**Составим график по столбцам:**  \n",
        "- last_price (цена на момент снятия) и number_day (день размещения объявления)\n",
        "- last_price (цена на момент снятия) и number_month (месяц размещения объявления)\n",
        "- last_price (цена на момент снятия) и number_year (год размещения объявления)"
      ]
    },
    {
      "cell_type": "code",
      "execution_count": 72,
      "id": "91987994",
      "metadata": {
        "colab": {
          "base_uri": "https://localhost:8080/",
          "height": 856
        },
        "id": "91987994",
        "outputId": "b83919bd-1e64-4f20-ab83-9e7107f7af65"
      },
      "outputs": [
        {
          "output_type": "execute_result",
          "data": {
            "text/plain": [
              "<matplotlib.axes._subplots.AxesSubplot at 0x7fbed623a350>"
            ]
          },
          "metadata": {},
          "execution_count": 72
        },
        {
          "output_type": "display_data",
          "data": {
            "text/plain": [
              "<Figure size 432x288 with 1 Axes>"
            ],
            "image/png": "[encoded data removed]"
          },
          "metadata": {
            "needs_background": "light"
          }
        },
        {
          "output_type": "display_data",
          "data": {
            "text/plain": [
              "<Figure size 432x288 with 1 Axes>"
            ],
            "image/png": "[encoded data removed]"
          },
          "metadata": {
            "needs_background": "light"
          }
        },
        {
          "output_type": "display_data",
          "data": {
            "text/plain": [
              "<Figure size 432x288 with 1 Axes>"
            ],
            "image/png": "[encoded data removed]"
          },
          "metadata": {
            "needs_background": "light"
          }
        }
      ],
      "source": [
        "(data\n",
        "    .pivot_table(index='number_day', values='last_price')\n",
        "    .plot(grid = True)\n",
        ")\n",
        "(data\n",
        "    .pivot_table(index='number_month', values='last_price')\n",
        "    .plot(grid = True)\n",
        ")\n",
        "(data\n",
        "    .pivot_table(index='number_year', values='last_price')\n",
        "    .plot(grid = True)\n",
        ")"
      ]
    },
    {
      "cell_type": "markdown",
      "id": "0464f6aa",
      "metadata": {
        "id": "0464f6aa"
      },
      "source": [
        "**День: дороже всего выкладывались квартиры в четверг, а дешевле - в субботу. Зависимость не прослеживается**  \n",
        "**Месяц: самые дорогие квартиры выкладывались в декабре и ноябре, но, в целом, зависимость не прослеживается**  \n",
        "**Год: в среднем, медианная стоимость квартир уменьшалась со временем, но к 2019-ому году снова начала расти**"
      ]
    },
    {
      "cell_type": "markdown",
      "id": "dd5bebcc",
      "metadata": {
        "id": "dd5bebcc"
      },
      "source": [
        "**Расчитаем коэффициент корреляции Пирсона**"
      ]
    },
    {
      "cell_type": "code",
      "execution_count": 73,
      "id": "21fca947",
      "metadata": {
        "colab": {
          "base_uri": "https://localhost:8080/"
        },
        "id": "21fca947",
        "outputId": "cad62d93-6e6c-46ee-840d-eddb0b4d47af"
      },
      "outputs": [
        {
          "output_type": "stream",
          "name": "stdout",
          "text": [
            "-0.0030287997360853723\n",
            "0.008999601489759756\n",
            "-0.054353702241212686\n"
          ]
        }
      ],
      "source": [
        "print(data['number_day'].corr(data['last_price']))\n",
        "print(data['number_month'].corr(data['last_price']))\n",
        "print(data['number_year'].corr(data['last_price']))"
      ]
    },
    {
      "cell_type": "markdown",
      "id": "b87dd1d6",
      "metadata": {
        "id": "b87dd1d6"
      },
      "source": [
        "**Как и ожидалось, зависимости между временем размещения объявления и ценой практически нет**"
      ]
    },
    {
      "cell_type": "markdown",
      "id": "bc336264",
      "metadata": {
        "id": "bc336264"
      },
      "source": [
        "**Вывод: больше всего на стоимость объекта влияет его общая площадь**"
      ]
    },
    {
      "cell_type": "markdown",
      "id": "eee02f61",
      "metadata": {
        "id": "eee02f61"
      },
      "source": [
        "#### Посчитаем среднюю цену одного квадратного метра в 10 населённых пунктах с наибольшим числом объявлений"
      ]
    },
    {
      "cell_type": "code",
      "execution_count": 74,
      "id": "04baad03",
      "metadata": {
        "colab": {
          "base_uri": "https://localhost:8080/",
          "height": 394
        },
        "id": "04baad03",
        "outputId": "cde2c96d-c091-4e38-828f-38dc951b297b"
      },
      "outputs": [
        {
          "output_type": "display_data",
          "data": {
            "text/plain": [
              "                 first_day_exposition     per_square\n",
              "local_change                                        \n",
              "Санкт-Петербург                 15655  113613.981773\n",
              "Мурино                            590   86087.512050\n",
              "Кудрово                           472   95324.930544\n",
              "Шушары                            440   78677.364217\n",
              "Всеволожск                        398   68654.473986\n",
              "Пушкин                            369  103125.819291\n",
              "Колпино                           337   75333.295801\n",
              "Парголово                         327   90175.913458\n",
              "Гатчина                           307   68746.146763\n",
              "Выборг                            237   58141.909153"
            ],
            "text/html": [
              "\n",
              "  <div id=\"df-6d37556c-a844-4e03-be36-eca17ed94050\">\n",
              "    <div class=\"colab-df-container\">\n",
              "      <div>\n",
              "<style scoped>\n",
              "    .dataframe tbody tr th:only-of-type {\n",
              "        vertical-align: middle;\n",
              "    }\n",
              "\n",
              "    .dataframe tbody tr th {\n",
              "        vertical-align: top;\n",
              "    }\n",
              "\n",
              "    .dataframe thead th {\n",
              "        text-align: right;\n",
              "    }\n",
              "</style>\n",
              "<table border=\"1\" class=\"dataframe\">\n",
              "  <thead>\n",
              "    <tr style=\"text-align: right;\">\n",
              "      <th></th>\n",
              "      <th>first_day_exposition</th>\n",
              "      <th>per_square</th>\n",
              "    </tr>\n",
              "    <tr>\n",
              "      <th>local_change</th>\n",
              "      <th></th>\n",
              "      <th></th>\n",
              "    </tr>\n",
              "  </thead>\n",
              "  <tbody>\n",
              "    <tr>\n",
              "      <th>Санкт-Петербург</th>\n",
              "      <td>15655</td>\n",
              "      <td>113613.981773</td>\n",
              "    </tr>\n",
              "    <tr>\n",
              "      <th>Мурино</th>\n",
              "      <td>590</td>\n",
              "      <td>86087.512050</td>\n",
              "    </tr>\n",
              "    <tr>\n",
              "      <th>Кудрово</th>\n",
              "      <td>472</td>\n",
              "      <td>95324.930544</td>\n",
              "    </tr>\n",
              "    <tr>\n",
              "      <th>Шушары</th>\n",
              "      <td>440</td>\n",
              "      <td>78677.364217</td>\n",
              "    </tr>\n",
              "    <tr>\n",
              "      <th>Всеволожск</th>\n",
              "      <td>398</td>\n",
              "      <td>68654.473986</td>\n",
              "    </tr>\n",
              "    <tr>\n",
              "      <th>Пушкин</th>\n",
              "      <td>369</td>\n",
              "      <td>103125.819291</td>\n",
              "    </tr>\n",
              "    <tr>\n",
              "      <th>Колпино</th>\n",
              "      <td>337</td>\n",
              "      <td>75333.295801</td>\n",
              "    </tr>\n",
              "    <tr>\n",
              "      <th>Парголово</th>\n",
              "      <td>327</td>\n",
              "      <td>90175.913458</td>\n",
              "    </tr>\n",
              "    <tr>\n",
              "      <th>Гатчина</th>\n",
              "      <td>307</td>\n",
              "      <td>68746.146763</td>\n",
              "    </tr>\n",
              "    <tr>\n",
              "      <th>Выборг</th>\n",
              "      <td>237</td>\n",
              "      <td>58141.909153</td>\n",
              "    </tr>\n",
              "  </tbody>\n",
              "</table>\n",
              "</div>\n",
              "      <button class=\"colab-df-convert\" onclick=\"convertToInteractive('df-6d37556c-a844-4e03-be36-eca17ed94050')\"\n",
              "              title=\"Convert this dataframe to an interactive table.\"\n",
              "              style=\"display:none;\">\n",
              "        \n",
              "  <svg xmlns=\"http://www.w3.org/2000/svg\" height=\"24px\"viewBox=\"0 0 24 24\"\n",
              "       width=\"24px\">\n",
              "    <path d=\"M0 0h24v24H0V0z\" fill=\"none\"/>\n",
              "    <path d=\"M18.56 5.44l.94 2.06.94-2.06 2.06-.94-2.06-.94-.94-2.06-.94 2.06-2.06.94zm-11 1L8.5 8.5l.94-2.06 2.06-.94-2.06-.94L8.5 2.5l-.94 2.06-2.06.94zm10 10l.94 2.06.94-2.06 2.06-.94-2.06-.94-.94-2.06-.94 2.06-2.06.94z\"/><path d=\"M17.41 7.96l-1.37-1.37c-.4-.4-.92-.59-1.43-.59-.52 0-1.04.2-1.43.59L10.3 9.45l-7.72 7.72c-.78.78-.78 2.05 0 2.83L4 21.41c.39.39.9.59 1.41.59.51 0 1.02-.2 1.41-.59l7.78-7.78 2.81-2.81c.8-.78.8-2.07 0-2.86zM5.41 20L4 18.59l7.72-7.72 1.47 1.35L5.41 20z\"/>\n",
              "  </svg>\n",
              "      </button>\n",
              "      \n",
              "  <style>\n",
              "    .colab-df-container {\n",
              "      display:flex;\n",
              "      flex-wrap:wrap;\n",
              "      gap: 12px;\n",
              "    }\n",
              "\n",
              "    .colab-df-convert {\n",
              "      background-color: #E8F0FE;\n",
              "      border: none;\n",
              "      border-radius: 50%;\n",
              "      cursor: pointer;\n",
              "      display: none;\n",
              "      fill: #1967D2;\n",
              "      height: 32px;\n",
              "      padding: 0 0 0 0;\n",
              "      width: 32px;\n",
              "    }\n",
              "\n",
              "    .colab-df-convert:hover {\n",
              "      background-color: #E2EBFA;\n",
              "      box-shadow: 0px 1px 2px rgba(60, 64, 67, 0.3), 0px 1px 3px 1px rgba(60, 64, 67, 0.15);\n",
              "      fill: #174EA6;\n",
              "    }\n",
              "\n",
              "    [theme=dark] .colab-df-convert {\n",
              "      background-color: #3B4455;\n",
              "      fill: #D2E3FC;\n",
              "    }\n",
              "\n",
              "    [theme=dark] .colab-df-convert:hover {\n",
              "      background-color: #434B5C;\n",
              "      box-shadow: 0px 1px 3px 1px rgba(0, 0, 0, 0.15);\n",
              "      filter: drop-shadow(0px 1px 2px rgba(0, 0, 0, 0.3));\n",
              "      fill: #FFFFFF;\n",
              "    }\n",
              "  </style>\n",
              "\n",
              "      <script>\n",
              "        const buttonEl =\n",
              "          document.querySelector('#df-6d37556c-a844-4e03-be36-eca17ed94050 button.colab-df-convert');\n",
              "        buttonEl.style.display =\n",
              "          google.colab.kernel.accessAllowed ? 'block' : 'none';\n",
              "\n",
              "        async function convertToInteractive(key) {\n",
              "          const element = document.querySelector('#df-6d37556c-a844-4e03-be36-eca17ed94050');\n",
              "          const dataTable =\n",
              "            await google.colab.kernel.invokeFunction('convertToInteractive',\n",
              "                                                     [key], {});\n",
              "          if (!dataTable) return;\n",
              "\n",
              "          const docLinkHtml = 'Like what you see? Visit the ' +\n",
              "            '<a target=\"_blank\" href=https://colab.research.google.com/notebooks/data_table.ipynb>data table notebook</a>'\n",
              "            + ' to learn more about interactive tables.';\n",
              "          element.innerHTML = '';\n",
              "          dataTable['output_type'] = 'display_data';\n",
              "          await google.colab.output.renderOutput(dataTable, element);\n",
              "          const docLink = document.createElement('div');\n",
              "          docLink.innerHTML = docLinkHtml;\n",
              "          element.appendChild(docLink);\n",
              "        }\n",
              "      </script>\n",
              "    </div>\n",
              "  </div>\n",
              "  "
            ]
          },
          "metadata": {}
        }
      ],
      "source": [
        "# Создадим сводную таблицу по количеству объявлений в населенных пунктах и сразу ее отсортируем\n",
        "# по убыванию значений столбца first_day_exposition\n",
        "data_filter = data.pivot_table(index = 'local_change', values = 'first_day_exposition', aggfunc = 'count').sort_values(by = 'first_day_exposition', ascending = False)\n",
        "\n",
        "# Срезаем таблицу по десяти самым высоким значениям\n",
        "data_filter = data_filter[:10]\n",
        "\n",
        "# Создаем таблицу со средним значением стоимости кв.м. по всем населенным пунктам\n",
        "data_filter2 = data.pivot_table(index = 'local_change', values = 'per_square', aggfunc = 'mean')\n",
        "\n",
        "# Объединяем таблицы по столбцу с названием населенного пункта\n",
        "#data_filter3 = data_filter.merge(data_filter2, on='locality_name', how='inner')\n",
        "data_filter4 = data_filter.join(data_filter2, on='local_change', how='left')\n",
        "\n",
        "display(data_filter4)"
      ]
    },
    {
      "cell_type": "markdown",
      "id": "cd67910b",
      "metadata": {
        "id": "cd67910b"
      },
      "source": [
        "**Как и ожидалось, самый дорогой квадратный метр в Санкт-Петербурге (113 тыс/кв.м). Самый дешевый - в Выборге (58 тыс/кв.м)**"
      ]
    },
    {
      "cell_type": "markdown",
      "id": "3694529a",
      "metadata": {
        "id": "3694529a"
      },
      "source": [
        "#### Ранее было расчитано расстояние до центра в километрах (city_сenters). Теперь выделим квартиры в Санкт-Петербурге с помощью столбца local_change и вычислим среднюю цену каждого километра"
      ]
    },
    {
      "cell_type": "code",
      "execution_count": 75,
      "id": "b5427aaa",
      "metadata": {
        "colab": {
          "base_uri": "https://localhost:8080/"
        },
        "id": "b5427aaa",
        "outputId": "3063c79a-dfb5-4615-8a05-2cddc1c9e840"
      },
      "outputs": [
        {
          "output_type": "execute_result",
          "data": {
            "text/plain": [
              "60"
            ]
          },
          "metadata": {},
          "execution_count": 75
        }
      ],
      "source": [
        "# Отфильтруем таблицу по населенному пункту\n",
        "data_slice = data.loc[data['local_change'] == 'Санкт-Петербург']\n",
        "\n",
        "# Посчитаем пропуски в столбце city_сenters\n",
        "data_slice['city_сenters'].isna().sum()"
      ]
    },
    {
      "cell_type": "markdown",
      "id": "a5b4a130",
      "metadata": {
        "id": "a5b4a130"
      },
      "source": [
        "**Пропусков в расстоянии по городу СПБ не так много, поэтому можем их удалить**"
      ]
    },
    {
      "cell_type": "code",
      "execution_count": 76,
      "id": "ecb6fa5e",
      "metadata": {
        "id": "ecb6fa5e"
      },
      "outputs": [],
      "source": [
        "data_slice = data_slice.dropna(subset = ['city_сenters']) "
      ]
    },
    {
      "cell_type": "markdown",
      "id": "9947de83",
      "metadata": {
        "id": "9947de83"
      },
      "source": [
        "**Добавим новый столбец со стоимостью одного км**"
      ]
    },
    {
      "cell_type": "code",
      "execution_count": 77,
      "id": "19e3876d",
      "metadata": {
        "colab": {
          "base_uri": "https://localhost:8080/",
          "height": 386
        },
        "id": "19e3876d",
        "outputId": "1749e7cd-6c17-4daf-ab23-fbb2ed83b689"
      },
      "outputs": [
        {
          "output_type": "display_data",
          "data": {
            "text/plain": [
              "   total_images  last_price  total_area first_day_exposition  rooms  \\\n",
              "0            20  13000000.0       108.0           2019-03-07      3   \n",
              "2            10   5196000.0        56.0           2015-08-20      2   \n",
              "3             0  64900000.0       159.0           2015-07-24      3   \n",
              "4             2  10000000.0       100.0           2018-06-19      2   \n",
              "7             5   7915000.0        71.6           2019-04-18      2   \n",
              "\n",
              "   ceiling_height  floors_total  living_area  floor is_apartment  ...  \\\n",
              "0            2.70          16.0         51.0      8          NaN  ...   \n",
              "2            2.65           5.0         34.3      4          NaN  ...   \n",
              "3            2.65          14.0         45.0      9          NaN  ...   \n",
              "4            3.03          14.0         32.0     13          NaN  ...   \n",
              "7            2.65          24.0         30.5     22          NaN  ...   \n",
              "\n",
              "   ponds_nearest  days_exposition     local_change     per_square number_day  \\\n",
              "0          755.0              NaN  Санкт-Петербург  120370.370370          3   \n",
              "2          574.0            558.0  Санкт-Петербург   92785.714286          3   \n",
              "3          234.0            424.0  Санкт-Петербург  408176.100629          4   \n",
              "4           48.0            121.0  Санкт-Петербург  100000.000000          1   \n",
              "7            NaN              NaN  Санкт-Петербург  110544.692737          3   \n",
              "\n",
              "   number_month  number_year  type_floor  city_сenters  mean_price_km  \n",
              "0             3         2019      другой          16.0   8.125000e+05  \n",
              "2             8         2015      другой          14.0   3.711429e+05  \n",
              "3             7         2015      другой           7.0   9.271429e+06  \n",
              "4             6         2018      другой           8.0   1.250000e+06  \n",
              "7             4         2019      другой          12.0   6.595833e+05  \n",
              "\n",
              "[5 rows x 30 columns]"
            ],
            "text/html": [
              "\n",
              "  <div id=\"df-9b506385-db70-47f9-8a92-b65b341be62e\">\n",
              "    <div class=\"colab-df-container\">\n",
              "      <div>\n",
              "<style scoped>\n",
              "    .dataframe tbody tr th:only-of-type {\n",
              "        vertical-align: middle;\n",
              "    }\n",
              "\n",
              "    .dataframe tbody tr th {\n",
              "        vertical-align: top;\n",
              "    }\n",
              "\n",
              "    .dataframe thead th {\n",
              "        text-align: right;\n",
              "    }\n",
              "</style>\n",
              "<table border=\"1\" class=\"dataframe\">\n",
              "  <thead>\n",
              "    <tr style=\"text-align: right;\">\n",
              "      <th></th>\n",
              "      <th>total_images</th>\n",
              "      <th>last_price</th>\n",
              "      <th>total_area</th>\n",
              "      <th>first_day_exposition</th>\n",
              "      <th>rooms</th>\n",
              "      <th>ceiling_height</th>\n",
              "      <th>floors_total</th>\n",
              "      <th>living_area</th>\n",
              "      <th>floor</th>\n",
              "      <th>is_apartment</th>\n",
              "      <th>...</th>\n",
              "      <th>ponds_nearest</th>\n",
              "      <th>days_exposition</th>\n",
              "      <th>local_change</th>\n",
              "      <th>per_square</th>\n",
              "      <th>number_day</th>\n",
              "      <th>number_month</th>\n",
              "      <th>number_year</th>\n",
              "      <th>type_floor</th>\n",
              "      <th>city_сenters</th>\n",
              "      <th>mean_price_km</th>\n",
              "    </tr>\n",
              "  </thead>\n",
              "  <tbody>\n",
              "    <tr>\n",
              "      <th>0</th>\n",
              "      <td>20</td>\n",
              "      <td>13000000.0</td>\n",
              "      <td>108.0</td>\n",
              "      <td>2019-03-07</td>\n",
              "      <td>3</td>\n",
              "      <td>2.70</td>\n",
              "      <td>16.0</td>\n",
              "      <td>51.0</td>\n",
              "      <td>8</td>\n",
              "      <td>NaN</td>\n",
              "      <td>...</td>\n",
              "      <td>755.0</td>\n",
              "      <td>NaN</td>\n",
              "      <td>Санкт-Петербург</td>\n",
              "      <td>120370.370370</td>\n",
              "      <td>3</td>\n",
              "      <td>3</td>\n",
              "      <td>2019</td>\n",
              "      <td>другой</td>\n",
              "      <td>16.0</td>\n",
              "      <td>8.125000e+05</td>\n",
              "    </tr>\n",
              "    <tr>\n",
              "      <th>2</th>\n",
              "      <td>10</td>\n",
              "      <td>5196000.0</td>\n",
              "      <td>56.0</td>\n",
              "      <td>2015-08-20</td>\n",
              "      <td>2</td>\n",
              "      <td>2.65</td>\n",
              "      <td>5.0</td>\n",
              "      <td>34.3</td>\n",
              "      <td>4</td>\n",
              "      <td>NaN</td>\n",
              "      <td>...</td>\n",
              "      <td>574.0</td>\n",
              "      <td>558.0</td>\n",
              "      <td>Санкт-Петербург</td>\n",
              "      <td>92785.714286</td>\n",
              "      <td>3</td>\n",
              "      <td>8</td>\n",
              "      <td>2015</td>\n",
              "      <td>другой</td>\n",
              "      <td>14.0</td>\n",
              "      <td>3.711429e+05</td>\n",
              "    </tr>\n",
              "    <tr>\n",
              "      <th>3</th>\n",
              "      <td>0</td>\n",
              "      <td>64900000.0</td>\n",
              "      <td>159.0</td>\n",
              "      <td>2015-07-24</td>\n",
              "      <td>3</td>\n",
              "      <td>2.65</td>\n",
              "      <td>14.0</td>\n",
              "      <td>45.0</td>\n",
              "      <td>9</td>\n",
              "      <td>NaN</td>\n",
              "      <td>...</td>\n",
              "      <td>234.0</td>\n",
              "      <td>424.0</td>\n",
              "      <td>Санкт-Петербург</td>\n",
              "      <td>408176.100629</td>\n",
              "      <td>4</td>\n",
              "      <td>7</td>\n",
              "      <td>2015</td>\n",
              "      <td>другой</td>\n",
              "      <td>7.0</td>\n",
              "      <td>9.271429e+06</td>\n",
              "    </tr>\n",
              "    <tr>\n",
              "      <th>4</th>\n",
              "      <td>2</td>\n",
              "      <td>10000000.0</td>\n",
              "      <td>100.0</td>\n",
              "      <td>2018-06-19</td>\n",
              "      <td>2</td>\n",
              "      <td>3.03</td>\n",
              "      <td>14.0</td>\n",
              "      <td>32.0</td>\n",
              "      <td>13</td>\n",
              "      <td>NaN</td>\n",
              "      <td>...</td>\n",
              "      <td>48.0</td>\n",
              "      <td>121.0</td>\n",
              "      <td>Санкт-Петербург</td>\n",
              "      <td>100000.000000</td>\n",
              "      <td>1</td>\n",
              "      <td>6</td>\n",
              "      <td>2018</td>\n",
              "      <td>другой</td>\n",
              "      <td>8.0</td>\n",
              "      <td>1.250000e+06</td>\n",
              "    </tr>\n",
              "    <tr>\n",
              "      <th>7</th>\n",
              "      <td>5</td>\n",
              "      <td>7915000.0</td>\n",
              "      <td>71.6</td>\n",
              "      <td>2019-04-18</td>\n",
              "      <td>2</td>\n",
              "      <td>2.65</td>\n",
              "      <td>24.0</td>\n",
              "      <td>30.5</td>\n",
              "      <td>22</td>\n",
              "      <td>NaN</td>\n",
              "      <td>...</td>\n",
              "      <td>NaN</td>\n",
              "      <td>NaN</td>\n",
              "      <td>Санкт-Петербург</td>\n",
              "      <td>110544.692737</td>\n",
              "      <td>3</td>\n",
              "      <td>4</td>\n",
              "      <td>2019</td>\n",
              "      <td>другой</td>\n",
              "      <td>12.0</td>\n",
              "      <td>6.595833e+05</td>\n",
              "    </tr>\n",
              "  </tbody>\n",
              "</table>\n",
              "<p>5 rows × 30 columns</p>\n",
              "</div>\n",
              "      <button class=\"colab-df-convert\" onclick=\"convertToInteractive('df-9b506385-db70-47f9-8a92-b65b341be62e')\"\n",
              "              title=\"Convert this dataframe to an interactive table.\"\n",
              "              style=\"display:none;\">\n",
              "        \n",
              "  <svg xmlns=\"http://www.w3.org/2000/svg\" height=\"24px\"viewBox=\"0 0 24 24\"\n",
              "       width=\"24px\">\n",
              "    <path d=\"M0 0h24v24H0V0z\" fill=\"none\"/>\n",
              "    <path d=\"M18.56 5.44l.94 2.06.94-2.06 2.06-.94-2.06-.94-.94-2.06-.94 2.06-2.06.94zm-11 1L8.5 8.5l.94-2.06 2.06-.94-2.06-.94L8.5 2.5l-.94 2.06-2.06.94zm10 10l.94 2.06.94-2.06 2.06-.94-2.06-.94-.94-2.06-.94 2.06-2.06.94z\"/><path d=\"M17.41 7.96l-1.37-1.37c-.4-.4-.92-.59-1.43-.59-.52 0-1.04.2-1.43.59L10.3 9.45l-7.72 7.72c-.78.78-.78 2.05 0 2.83L4 21.41c.39.39.9.59 1.41.59.51 0 1.02-.2 1.41-.59l7.78-7.78 2.81-2.81c.8-.78.8-2.07 0-2.86zM5.41 20L4 18.59l7.72-7.72 1.47 1.35L5.41 20z\"/>\n",
              "  </svg>\n",
              "      </button>\n",
              "      \n",
              "  <style>\n",
              "    .colab-df-container {\n",
              "      display:flex;\n",
              "      flex-wrap:wrap;\n",
              "      gap: 12px;\n",
              "    }\n",
              "\n",
              "    .colab-df-convert {\n",
              "      background-color: #E8F0FE;\n",
              "      border: none;\n",
              "      border-radius: 50%;\n",
              "      cursor: pointer;\n",
              "      display: none;\n",
              "      fill: #1967D2;\n",
              "      height: 32px;\n",
              "      padding: 0 0 0 0;\n",
              "      width: 32px;\n",
              "    }\n",
              "\n",
              "    .colab-df-convert:hover {\n",
              "      background-color: #E2EBFA;\n",
              "      box-shadow: 0px 1px 2px rgba(60, 64, 67, 0.3), 0px 1px 3px 1px rgba(60, 64, 67, 0.15);\n",
              "      fill: #174EA6;\n",
              "    }\n",
              "\n",
              "    [theme=dark] .colab-df-convert {\n",
              "      background-color: #3B4455;\n",
              "      fill: #D2E3FC;\n",
              "    }\n",
              "\n",
              "    [theme=dark] .colab-df-convert:hover {\n",
              "      background-color: #434B5C;\n",
              "      box-shadow: 0px 1px 3px 1px rgba(0, 0, 0, 0.15);\n",
              "      filter: drop-shadow(0px 1px 2px rgba(0, 0, 0, 0.3));\n",
              "      fill: #FFFFFF;\n",
              "    }\n",
              "  </style>\n",
              "\n",
              "      <script>\n",
              "        const buttonEl =\n",
              "          document.querySelector('#df-9b506385-db70-47f9-8a92-b65b341be62e button.colab-df-convert');\n",
              "        buttonEl.style.display =\n",
              "          google.colab.kernel.accessAllowed ? 'block' : 'none';\n",
              "\n",
              "        async function convertToInteractive(key) {\n",
              "          const element = document.querySelector('#df-9b506385-db70-47f9-8a92-b65b341be62e');\n",
              "          const dataTable =\n",
              "            await google.colab.kernel.invokeFunction('convertToInteractive',\n",
              "                                                     [key], {});\n",
              "          if (!dataTable) return;\n",
              "\n",
              "          const docLinkHtml = 'Like what you see? Visit the ' +\n",
              "            '<a target=\"_blank\" href=https://colab.research.google.com/notebooks/data_table.ipynb>data table notebook</a>'\n",
              "            + ' to learn more about interactive tables.';\n",
              "          element.innerHTML = '';\n",
              "          dataTable['output_type'] = 'display_data';\n",
              "          await google.colab.output.renderOutput(dataTable, element);\n",
              "          const docLink = document.createElement('div');\n",
              "          docLink.innerHTML = docLinkHtml;\n",
              "          element.appendChild(docLink);\n",
              "        }\n",
              "      </script>\n",
              "    </div>\n",
              "  </div>\n",
              "  "
            ]
          },
          "metadata": {}
        }
      ],
      "source": [
        "data_slice['mean_price_km'] = data_slice['last_price'] / data_slice['city_сenters']\n",
        "\n",
        "display(data_slice.head(5))"
      ]
    },
    {
      "cell_type": "markdown",
      "id": "b9d61991",
      "metadata": {
        "id": "b9d61991"
      },
      "source": [
        "**Построим график зависимости цены от расстояния (в км) до центра Санкт-Петербурга**"
      ]
    },
    {
      "cell_type": "code",
      "execution_count": 78,
      "id": "aa0e6811",
      "metadata": {
        "colab": {
          "base_uri": "https://localhost:8080/",
          "height": 308
        },
        "id": "aa0e6811",
        "outputId": "a05e003a-6120-4b7e-ce84-71b9519b96d0"
      },
      "outputs": [
        {
          "output_type": "execute_result",
          "data": {
            "text/plain": [
              "<matplotlib.axes._subplots.AxesSubplot at 0x7fbed9963790>"
            ]
          },
          "metadata": {},
          "execution_count": 78
        },
        {
          "output_type": "display_data",
          "data": {
            "text/plain": [
              "<Figure size 432x288 with 1 Axes>"
            ],
            "image/png": "[encoded data removed]"
          },
          "metadata": {
            "needs_background": "light"
          }
        }
      ],
      "source": [
        "(data_slice\n",
        "    .pivot_table(index='city_сenters', values='last_price')\n",
        "    .plot(grid = True)\n",
        ")"
      ]
    },
    {
      "cell_type": "markdown",
      "id": "3b601897",
      "metadata": {
        "id": "3b601897"
      },
      "source": [
        "**Посчитаем коэффициент корреляции Пирсона**"
      ]
    },
    {
      "cell_type": "code",
      "execution_count": 79,
      "id": "e5b9bdde",
      "metadata": {
        "colab": {
          "base_uri": "https://localhost:8080/"
        },
        "id": "e5b9bdde",
        "outputId": "5c8e476e-fa9d-4cbb-a526-e5e6a668d5fd"
      },
      "outputs": [
        {
          "output_type": "stream",
          "name": "stdout",
          "text": [
            "-0.37113675802483825\n"
          ]
        }
      ],
      "source": [
        "print(data_slice['city_сenters'].corr(data_slice['last_price']))"
      ]
    },
    {
      "cell_type": "markdown",
      "id": "2d003f52",
      "metadata": {
        "id": "2d003f52"
      },
      "source": [
        "**График говорит о том, что с увеличением расстояния от центра города медианная цена объекта недвижимости снижается, причем зависимость достаточно сильная, если не учитывать редкие выбросы, которые занижают коэффициент Пирсона**"
      ]
    },
    {
      "cell_type": "markdown",
      "id": "426de084",
      "metadata": {
        "id": "426de084"
      },
      "source": [
        "**Проверим, есть ли разница в распределениях квартир в центре СПБ и общего датафрейма.  \n",
        "    Пусть центр - не более 4 км в столбце city_сenters**"
      ]
    },
    {
      "cell_type": "code",
      "execution_count": 80,
      "id": "2fe9156b",
      "metadata": {
        "colab": {
          "base_uri": "https://localhost:8080/"
        },
        "id": "2fe9156b",
        "outputId": "a9854260-3919-4134-afa6-5a8e9f193444"
      },
      "outputs": [
        {
          "output_type": "stream",
          "name": "stdout",
          "text": [
            "1541\n",
            "14054\n"
          ]
        }
      ],
      "source": [
        "# Отфильтруем таблицу, содержащую только СПБ, по расстоянию от центра не более 4 км\n",
        "\n",
        "data_slice_center = data_slice.loc[data_slice['city_сenters'] <= 4]\n",
        "print(data_slice_center['local_change'].count())\n",
        "\n",
        "# Отфильтруем таблицу, содержащую только СПБ, по расстоянию от центра более 4 км\n",
        "data_slice_center_2 = data_slice.loc[data_slice['city_сenters'] > 4]\n",
        "print(data_slice_center_2['local_change'].count())"
      ]
    },
    {
      "cell_type": "code",
      "execution_count": 81,
      "id": "f70c1877",
      "metadata": {
        "colab": {
          "base_uri": "https://localhost:8080/"
        },
        "id": "f70c1877",
        "outputId": "b0756d32-4adb-4770-b954-5bc583cd8303"
      },
      "outputs": [
        {
          "output_type": "execute_result",
          "data": {
            "text/plain": [
              "9.881372234690607"
            ]
          },
          "metadata": {},
          "execution_count": 81
        }
      ],
      "source": [
        "1541/(14054+1541)*100"
      ]
    },
    {
      "cell_type": "markdown",
      "id": "52de3c7f",
      "metadata": {
        "id": "52de3c7f"
      },
      "source": [
        "**Можно сделать вывод, что в центре СПБ 1541 квартира, тогда как в остальном городе 14054. В центре находятся 10% квартир от их общего числа**"
      ]
    },
    {
      "cell_type": "markdown",
      "id": "4d55395a",
      "metadata": {
        "id": "4d55395a"
      },
      "source": [
        "### Общий вывод"
      ]
    },
    {
      "cell_type": "markdown",
      "id": "194669d7",
      "metadata": {
        "id": "194669d7"
      },
      "source": [
        "**Проведен анализ рынка недвижимости в городе Санкт-Петербург и его области. Была проведена предобработка данных.  \n",
        "Сделаны следующие выводы:**\n",
        "- Самая дорогая земля находится в черте города\n",
        "- Средняя площадь объекта недвижимости находится в пределах 40-50 кв.м, а средняя цена примерно 4-5 млн рублей\n",
        "- Самые популярные квартиры - однокомнатные\n",
        "- Чаще всего объявления о продаже выходят в будние дни и ближе к концу года  \n",
        "Выводы расчетов:\n",
        "- Зависимость цены от общей (и жилой) площади: Прямо пропорциональная и ярко выраженная. Основной фактор ценообразования\n",
        "- Цена не зависит от площади кухни\n",
        "- Зависимость цены от количества комнат: Прямо пропорциональная и ярко выраженная. \n",
        "- Зависимость цены от типа этажа: Квартиры на первом этаже сильно дешевле тех, что находятся на последнем или других этажах\n",
        "- Зависимость цены от дня, месяца и года размещения объявления: От дня и месяца не зависит. По годам - цена падала до 2018-ого, а после начала расти\n",
        "- Самый дорогой квадратный метр в Санкт-Петербурге, а самый дешевый - в Выборге (среди самых богатых на объявления городов).\n",
        "- Чем дальше от центра города находится объект недвижимости, тем дешевле его цена. Зависимость обратно пропорциональная и ярко выраженная\n",
        "- В центре города находится 10% от всех квартир в городе"
      ]
    }
  ],
  "metadata": {
    "kernelspec": {
      "display_name": "Python 3 (ipykernel)",
      "language": "python",
      "name": "python3"
    },
    "language_info": {
      "codemirror_mode": {
        "name": "ipython",
        "version": 3
      },
      "file_extension": ".py",
      "mimetype": "text/x-python",
      "name": "python",
      "nbconvert_exporter": "python",
      "pygments_lexer": "ipython3",
      "version": "3.9.13"
    },
    "colab": {
      "provenance": [],
      "collapsed_sections": [],
      "toc_visible": true
    }
  },
  "nbformat": 4,
  "nbformat_minor": 5
}